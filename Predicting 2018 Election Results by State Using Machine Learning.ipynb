{
 "cells": [
  {
   "cell_type": "markdown",
   "metadata": {},
   "source": [
    "198:533-NLP Final Project\n",
    "\n",
    "\n",
    "The goal of this project is to explore some current NLP technologies, methodologies, and pipelines on a problem of my choice.\n",
    "The problem that I have undertaken is the following: Can you predict which party won what state in 2018 (and by what margin)? The hypothesis is that by looking at tweets, you can classify them as liberal/conservative. The states that republicans won should have more significantly conservative tweets than the states that democrats won and vice versa. \n",
    "\n",
    "\n",
    "Methodology: \n",
    "\n",
    "\n",
    "Due to memory constraints and other (tweepy related) constraints, I have gathered only 5000 tweets from the current senate, 5000 tweets from the previous senate, and a kaggle dataset that contains an almost equal amount of tweets from democrats and republicans (approximately 86,000 tweets) from all different offices. The idea is to initially use 2 linear classifiers, the first which classifies the tweet as liberal/conservative and the second which look at how many tweets are liberal/conservative and gives a prediction on which party won that state. Then, the last linear classifer will be replaced with a multiclass classifier, that attempts to predict the state margin of victory (either +5D, +1-5D, +1-5R, or +5R)  \n",
    "The second method will be to use an RNN with LSTM to classify the tweets as liberal/conservative, and then using a linear classifier to make a decision on what party won that state. Then, the last classifier will be replaced with a multiclass classifer that will attempt to predict the state margin of victory (either +5D, +1-5D, +1-5R, or +5R) like the baseline model."
   ]
  },
  {
   "cell_type": "code",
   "execution_count": 1,
   "metadata": {},
   "outputs": [
    {
     "name": "stderr",
     "output_type": "stream",
     "text": [
      "C:\\Users\\xeshi\\Anaconda3\\lib\\site-packages\\gensim\\utils.py:1197: UserWarning: detected Windows; aliasing chunkize to chunkize_serial\n",
      "  warnings.warn(\"detected Windows; aliasing chunkize to chunkize_serial\")\n",
      "Using TensorFlow backend.\n"
     ]
    }
   ],
   "source": [
    "import spacy\n",
    "import string\n",
    "import en_core_web_sm\n",
    "import tweepy\n",
    "import json\n",
    "from tweepy import TweepError\n",
    "import logging\n",
    "import os\n",
    "from pathlib import Path\n",
    "import random\n",
    "import pandas as pd\n",
    "import nltk\n",
    "from nltk.corpus import stopwords\n",
    "from nltk.stem import PorterStemmer\n",
    "import numpy as np\n",
    "import sklearn\n",
    "from sklearn.linear_model import SGDClassifier\n",
    "import matplotlib.pyplot as plt\n",
    "%matplotlib inline\n",
    "import gensim\n",
    "import gensim.models.keyedvectors as word2vec\n",
    "from keras.models import Sequential\n",
    "from keras.layers import LSTM, Dense, Dropout, Masking, Embedding\n",
    "import scipy.sparse as sp\n",
    "from sklearn.multiclass import OneVsRestClassifier"
   ]
  },
  {
   "cell_type": "code",
   "execution_count": 2,
   "metadata": {},
   "outputs": [],
   "source": [
    "#Load the names of the senators, and their party affiliation\n",
    "sen_names_file=open(\"senator_names.txt\",'r')\n",
    "sen=1\n",
    "party=4\n",
    "st=2\n",
    "line_no=1\n",
    "senators=[]\n",
    "party_aff=[]\n",
    "state_sen=[]\n",
    "for line in sen_names_file:\n",
    "    if len(line.strip())==0:\n",
    "        continue\n",
    "    if(line_no%sen==0):\n",
    "        senators.append(line)\n",
    "        sen=sen+4\n",
    "    if(line_no%party==0):\n",
    "        party_aff.append(line)\n",
    "        party=party+4\n",
    "    if(line_no%st==0):\n",
    "        state_sen.append(line.split(\"Senate\")[1])\n",
    "        st=st+4\n",
    "    line_no+=1\n",
    "sen_names_file.close()"
   ]
  },
  {
   "cell_type": "code",
   "execution_count": 3,
   "metadata": {},
   "outputs": [],
   "source": [
    "# get the twitter handles of the senators \n",
    "sen_twitter_handles=open(\"senator_handles.txt\",'r')\n",
    "twitter_handles=[]\n",
    "for line in sen_twitter_handles:\n",
    "    twitter_handles.append(line)\n",
    "sen_twitter_handles.close()\n"
   ]
  },
  {
   "cell_type": "code",
   "execution_count": 4,
   "metadata": {},
   "outputs": [],
   "source": [
    "# get the last name of the senators (this is how well match them to the twitter handles)\n",
    "last_names=[]\n",
    "for senator in senators:\n",
    "    s=senator.split(\" \")\n",
    "    if len(s)==2:\n",
    "        last_names.append(s[1])\n",
    "    if len(s)==3:\n",
    "        if s[0]=='Joe' or s[1]=='Casey':\n",
    "            last_names.append(s[1])\n",
    "        else:\n",
    "            last_names.append(s[2])\n",
    "    if len(s)==4:\n",
    "        last_names.append(s[3])"
   ]
  },
  {
   "cell_type": "code",
   "execution_count": 5,
   "metadata": {},
   "outputs": [],
   "source": [
    "# load the states in the US (50)\n",
    "file=open('US_states.txt','r')\n",
    "state=[]\n",
    "for line in file:\n",
    "    state.append(line)\n",
    "    "
   ]
  },
  {
   "cell_type": "code",
   "execution_count": 6,
   "metadata": {},
   "outputs": [],
   "source": [
    "# clean what was returned by removing the newlines, and putting text in lowercase if necessary\n",
    "twitter_handles=[handle.replace('\\n','') for handle in twitter_handles]\n",
    "party_aff=[p.replace('\\n','') for p in party_aff]\n",
    "last_names=[name.replace('\\n','').lower() for name in last_names]\n",
    "state=[s.replace('\\n','').strip() for s in state]\n",
    "state_sen=[s.replace('\\n','').strip() for s in state_sen]\n",
    "handle_lower=[handle.lower() for handle in twitter_handles]"
   ]
  },
  {
   "cell_type": "code",
   "execution_count": 7,
   "metadata": {},
   "outputs": [],
   "source": [
    "# create a dictionary of state and the corressponding senators twitter handles (initiall empty)\n",
    "state_to_senators={k:[] for k in state}"
   ]
  },
  {
   "cell_type": "code",
   "execution_count": 8,
   "metadata": {},
   "outputs": [],
   "source": [
    "# populate the dictionary with the twitter handles, and manually reset the incorrect mappings \n",
    "twitter_id=[]\n",
    "for s in state:\n",
    "    ind=[i for i, j in enumerate(state_sen) if j == s]\n",
    "    sen_in_state=[last_names[ind[0]],last_names[ind[1]]]\n",
    "    twitter_handles_in_state=[twitter_handles[i] for i,handle_lower in enumerate(handle_lower) for subs in sen_in_state if subs in handle_lower]\n",
    "    for handle in twitter_handles_in_state:\n",
    "        state_to_senators[s].append(handle)\n",
    "\n",
    "state_to_senators[\"Florida\"]=['@ScottforFlorida','@marcorubio']\n",
    "state_to_senators[\"South Carolina\"]=['@LindseyGrahamSC','@SenatorTimScott']\n",
    "state_to_senators[\"Minnesota\"]=[ '@TinaSmithMN','@amyklobuchar']\n",
    "state_to_senators['Mississippi']=['@RogerWicker','@cindyhydesmith']\n",
    "state_to_senators[\"Kentucky\"].append('@Team_Mitch')"
   ]
  },
  {
   "cell_type": "code",
   "execution_count": 9,
   "metadata": {},
   "outputs": [],
   "source": [
    "# remove the @ symbol from the twitter handles for tweepy to work \n",
    "for s in state_to_senators:\n",
    "    for handle in state_to_senators[s]:\n",
    "        twitter_id.append(handle.split('@')[1])"
   ]
  },
  {
   "cell_type": "code",
   "execution_count": 10,
   "metadata": {},
   "outputs": [],
   "source": [
    "# load in the twitter keys for the Twitter API\n",
    "key_file = 'keys.json'\n",
    "with open(key_file) as f:\n",
    "    keys = json.load(f)"
   ]
  },
  {
   "cell_type": "code",
   "execution_count": 11,
   "metadata": {},
   "outputs": [
    {
     "name": "stdout",
     "output_type": "stream",
     "text": [
      "Your username is: politics_res\n"
     ]
    }
   ],
   "source": [
    "# Testing connection with Twitter API and Developer Account \n",
    "try:\n",
    "    auth = tweepy.OAuthHandler(keys[\"consumer_key\"], keys[\"consumer_secret\"])\n",
    "    auth.set_access_token(keys[\"access_token\"], keys[\"access_token_secret\"])\n",
    "    api = tweepy.API(auth)\n",
    "    print(\"Your username is:\", api.auth.get_username())\n",
    "except TweepError as e:\n",
    "    logging.warning(\"There was a Tweepy error. Double check your API keys and try again.\")\n",
    "    logging.warning(e)"
   ]
  },
  {
   "cell_type": "code",
   "execution_count": 12,
   "metadata": {},
   "outputs": [],
   "source": [
    "# Various functions to help acquire tweets\n",
    "\n",
    "def load_keys(path):\n",
    "    json_data=open(path).read()\n",
    "    data = json.loads(json_data)\n",
    "    return data\n",
    "\n",
    "def download_recent_tweets_by_user(user_account_name, keys):\n",
    "    import tweepy\n",
    "    tweets = [t._json for t in tweepy.Cursor(api.user_timeline, id=user_account_name, tweet_mode='extended').items(50)]\n",
    "    return tweets;\n",
    "\n",
    "def load_tweets(path):\n",
    "    tweets = []\n",
    "    with open(path, \"r\") as f:\n",
    "        tweets = json.load(f)\n",
    "    return tweets\n",
    "\n",
    "def get_tweets_with_cache(user_account_name, keys_path,state): # need to add the state into here as well \n",
    "    data_path = 'data/'+state+\"/\"+user_account_name +'.json'\n",
    "    if not Path(data_path).is_file():\n",
    "        tweets = download_recent_tweets_by_user(user_account_name, load_keys(keys_path))\n",
    "        with open(data_path, \"w\") as f: \n",
    "            json.dump(tweets, f)\n",
    "        return tweets\n",
    "            \n",
    "    else:\n",
    "        return load_tweets(data_path)"
   ]
  },
  {
   "cell_type": "code",
   "execution_count": 13,
   "metadata": {},
   "outputs": [],
   "source": [
    "# Create folder for each state to store the tweets in \n",
    "for s in state:\n",
    "    path = \"data/\"+s\n",
    "    try:  \n",
    "        os.mkdir(path)\n",
    "    except OSError:  \n",
    "        continue"
   ]
  },
  {
   "cell_type": "code",
   "execution_count": 14,
   "metadata": {},
   "outputs": [],
   "source": [
    "# get the tweets and save them \n",
    "i=0\n",
    "for state in state_to_senators:\n",
    "    for handle in state_to_senators[state]:\n",
    "        get_tweets_with_cache(twitter_id[i],key_file,state)\n",
    "        i=i+1 "
   ]
  },
  {
   "cell_type": "code",
   "execution_count": 15,
   "metadata": {},
   "outputs": [],
   "source": [
    "# State continues to be edited somehow in the above code , so just rerun this cell to reload states in correct format\n",
    "file=open('US_states.txt','r')\n",
    "state=[]\n",
    "for line in file:\n",
    "    state.append(line)\n",
    "state=[s.replace('\\n','').strip() for s in state]"
   ]
  },
  {
   "cell_type": "code",
   "execution_count": 16,
   "metadata": {},
   "outputs": [],
   "source": [
    "# Get the current Senate's Tweets (2019) and drop the tuple of info into the all_tweets variable\n",
    "path=os.getcwd()+\"/data\"\n",
    "all_tweets=[]\n",
    "i=0\n",
    "for (dirname, dirs, files) in os.walk(path,topdown=True):\n",
    "    for filename in files:\n",
    "        tweets=load_tweets(path+\"/\"+state[i-1]+\"/\"+filename)\n",
    "        name=filename.split(\".\")[0]\n",
    "        state_name=state[i-1]\n",
    "        for t in tweets:\n",
    "            text=t['full_text']\n",
    "            info=(name,text,state_name)\n",
    "            all_tweets.append(info)\n",
    "    i=i+1"
   ]
  },
  {
   "cell_type": "code",
   "execution_count": 17,
   "metadata": {},
   "outputs": [],
   "source": [
    "# Loaded the previous Senates tweets (2016-2018)\n",
    "path=os.getcwd()+\"/tweet_training\"\n",
    "t2_tweets=[]\n",
    "i=0\n",
    "for (dirname,dirs,files) in os.walk(path,topdown=True):\n",
    "    for filename in files:\n",
    "        if \"sorted\" in filename:\n",
    "            tweets=load_tweets(path+\"/\"+state[i-1]+\"/\"+filename)\n",
    "            name=filename.split(\".\")[0]\n",
    "            state_name=state[i-1]\n",
    "            rand50=[random.randint(0,len(tweets)-1) for x in range(50)]\n",
    "            for x in rand50:\n",
    "                text=tweets[x]['full_text']\n",
    "                info=(name,text,state_name)\n",
    "                t2_tweets.append(info)\n",
    "        else:\n",
    "            continue\n",
    "    i=i+1"
   ]
  },
  {
   "cell_type": "code",
   "execution_count": 18,
   "metadata": {},
   "outputs": [],
   "source": [
    "# Format the current Senates Tweets into 3 lists so that they can be turned into DataFrames for verification\n",
    "tweet_text=[]\n",
    "author=[]\n",
    "state=[]\n",
    "for data in all_tweets:\n",
    "    author.append(data[0])\n",
    "    tweet_text.append(data[1])\n",
    "    state.append(data[2])"
   ]
  },
  {
   "cell_type": "code",
   "execution_count": 19,
   "metadata": {},
   "outputs": [
    {
     "data": {
      "text/html": [
       "<div>\n",
       "<style scoped>\n",
       "    .dataframe tbody tr th:only-of-type {\n",
       "        vertical-align: middle;\n",
       "    }\n",
       "\n",
       "    .dataframe tbody tr th {\n",
       "        vertical-align: top;\n",
       "    }\n",
       "\n",
       "    .dataframe thead th {\n",
       "        text-align: right;\n",
       "    }\n",
       "</style>\n",
       "<table border=\"1\" class=\"dataframe\">\n",
       "  <thead>\n",
       "    <tr style=\"text-align: right;\">\n",
       "      <th></th>\n",
       "      <th>Senator</th>\n",
       "      <th>Tweet</th>\n",
       "      <th>State of Senator</th>\n",
       "    </tr>\n",
       "  </thead>\n",
       "  <tbody>\n",
       "    <tr>\n",
       "      <th>0</th>\n",
       "      <td>DougJones</td>\n",
       "      <td>Looks like The Late Show with Stephen Colbert ...</td>\n",
       "      <td>Alabama</td>\n",
       "    </tr>\n",
       "    <tr>\n",
       "      <th>1</th>\n",
       "      <td>DougJones</td>\n",
       "      <td>“I’ve introduced a bill – the Stop HATE Act – ...</td>\n",
       "      <td>Alabama</td>\n",
       "    </tr>\n",
       "    <tr>\n",
       "      <th>2</th>\n",
       "      <td>DougJones</td>\n",
       "      <td>I am so please to announce that Martin Luther ...</td>\n",
       "      <td>Alabama</td>\n",
       "    </tr>\n",
       "    <tr>\n",
       "      <th>3</th>\n",
       "      <td>DougJones</td>\n",
       "      <td>A great game indeed!  Congrats and good luck t...</td>\n",
       "      <td>Alabama</td>\n",
       "    </tr>\n",
       "    <tr>\n",
       "      <th>4</th>\n",
       "      <td>DougJones</td>\n",
       "      <td>Louise and I are so proud of Carson - and he’s...</td>\n",
       "      <td>Alabama</td>\n",
       "    </tr>\n",
       "  </tbody>\n",
       "</table>\n",
       "</div>"
      ],
      "text/plain": [
       "     Senator                                              Tweet  \\\n",
       "0  DougJones  Looks like The Late Show with Stephen Colbert ...   \n",
       "1  DougJones  “I’ve introduced a bill – the Stop HATE Act – ...   \n",
       "2  DougJones  I am so please to announce that Martin Luther ...   \n",
       "3  DougJones  A great game indeed!  Congrats and good luck t...   \n",
       "4  DougJones  Louise and I are so proud of Carson - and he’s...   \n",
       "\n",
       "  State of Senator  \n",
       "0          Alabama  \n",
       "1          Alabama  \n",
       "2          Alabama  \n",
       "3          Alabama  \n",
       "4          Alabama  "
      ]
     },
     "execution_count": 19,
     "metadata": {},
     "output_type": "execute_result"
    }
   ],
   "source": [
    "# Convert the 3 lists into DataFrames for verification so far\n",
    "df=pd.DataFrame({'Senator':author,'Tweet':tweet_text,'State of Senator': state})\n",
    "df.head(5)"
   ]
  },
  {
   "cell_type": "code",
   "execution_count": 20,
   "metadata": {},
   "outputs": [
    {
     "data": {
      "text/html": [
       "<div>\n",
       "<style scoped>\n",
       "    .dataframe tbody tr th:only-of-type {\n",
       "        vertical-align: middle;\n",
       "    }\n",
       "\n",
       "    .dataframe tbody tr th {\n",
       "        vertical-align: top;\n",
       "    }\n",
       "\n",
       "    .dataframe thead th {\n",
       "        text-align: right;\n",
       "    }\n",
       "</style>\n",
       "<table border=\"1\" class=\"dataframe\">\n",
       "  <thead>\n",
       "    <tr style=\"text-align: right;\">\n",
       "      <th></th>\n",
       "      <th>Party</th>\n",
       "      <th>Tweet</th>\n",
       "    </tr>\n",
       "  </thead>\n",
       "  <tbody>\n",
       "    <tr>\n",
       "      <th>0</th>\n",
       "      <td>Democrat</td>\n",
       "      <td>Today, Senate Dems vote to #SaveTheInternet. P...</td>\n",
       "    </tr>\n",
       "    <tr>\n",
       "      <th>1</th>\n",
       "      <td>Democrat</td>\n",
       "      <td>RT @WinterHavenSun: Winter Haven resident / Al...</td>\n",
       "    </tr>\n",
       "    <tr>\n",
       "      <th>2</th>\n",
       "      <td>Democrat</td>\n",
       "      <td>RT @NBCLatino: .@RepDarrenSoto noted that Hurr...</td>\n",
       "    </tr>\n",
       "    <tr>\n",
       "      <th>3</th>\n",
       "      <td>Democrat</td>\n",
       "      <td>RT @NALCABPolicy: Meeting with @RepDarrenSoto ...</td>\n",
       "    </tr>\n",
       "    <tr>\n",
       "      <th>4</th>\n",
       "      <td>Democrat</td>\n",
       "      <td>RT @Vegalteno: Hurricane season starts on June...</td>\n",
       "    </tr>\n",
       "  </tbody>\n",
       "</table>\n",
       "</div>"
      ],
      "text/plain": [
       "      Party                                              Tweet\n",
       "0  Democrat  Today, Senate Dems vote to #SaveTheInternet. P...\n",
       "1  Democrat  RT @WinterHavenSun: Winter Haven resident / Al...\n",
       "2  Democrat  RT @NBCLatino: .@RepDarrenSoto noted that Hurr...\n",
       "3  Democrat  RT @NALCABPolicy: Meeting with @RepDarrenSoto ...\n",
       "4  Democrat  RT @Vegalteno: Hurricane season starts on June..."
      ]
     },
     "execution_count": 20,
     "metadata": {},
     "output_type": "execute_result"
    }
   ],
   "source": [
    "# Read in the Kaggle Dataset, and compress it to just 2 columns of the relevant information (May need to add data here)\n",
    "df2=pd.read_csv('training/tweets.csv')\n",
    "training_df=pd.DataFrame({'Author':df2['handle'],\"Tweet\": df2['text']})\n",
    "training_df.head(5)\n",
    "df3=pd.read_csv('training_tweets.csv')\n",
    "training_df2=pd.DataFrame({'Party':df3[\"Party\"],'Tweet':df3[\"Tweet\"]})\n",
    "training_df2.head(5)"
   ]
  },
  {
   "cell_type": "code",
   "execution_count": 21,
   "metadata": {},
   "outputs": [],
   "source": [
    "# This is an NLTK tokenizer with stemming (dont know why i had to reimport the stopwords)\n",
    "stopwords=set(stopwords.words('english'))\n",
    "stopwords.add('/n')\n",
    "ps=PorterStemmer()\n",
    "worddict={}\n",
    "def cleantweet(text):\n",
    "    words=nltk.word_tokenize(text.lower())\n",
    "    finish=[]\n",
    "    for word in words:\n",
    "        if word not in stopwords:\n",
    "            if word.isalpha() or word.isnumeric():\n",
    "                finish.append(ps.stem(word))\n",
    "    return finish"
   ]
  },
  {
   "cell_type": "code",
   "execution_count": 22,
   "metadata": {},
   "outputs": [],
   "source": [
    "# This is the spacy tokenizer\n",
    "nlp = en_core_web_sm.load()\n",
    "def cleantweetspacy(text):\n",
    "    words=nlp.tokenizer(text.lower())\n",
    "    finish=[]\n",
    "    for word in words:\n",
    "        if not word.is_stop:\n",
    "            if word.is_alpha or word.is_digit:\n",
    "                finish.append(word.lemma_)\n",
    "    return finish"
   ]
  },
  {
   "cell_type": "code",
   "execution_count": 23,
   "metadata": {},
   "outputs": [],
   "source": [
    "# This is aggregating the tweets together for a later processing step (combining them into one list)\n",
    "# This also gets the target so that the supervised methods can be trained properly\n",
    "combined_tweets=tweet_text\n",
    "training_tweets=[]\n",
    "target=[] # call 1 trump/conservative, call 0 hillary/liberal\n",
    "for i in range(len(training_df2)): # this length is larger than the other set, so run 2 seperate loops for it \n",
    "    text=training_df2[\"Tweet\"][i]\n",
    "    combined_tweets.append(text)\n",
    "    training_tweets.append(text)\n",
    "    if training_df2[\"Party\"][i]=='Democrat': # \"Author\", HillaryClinton\n",
    "        target.append(0)\n",
    "    else:\n",
    "        target.append(1)\n",
    "\n",
    "for j in range(len(t2_tweets)):\n",
    "    text=t2_tweets[j][1]\n",
    "    combined_tweets.append(text)\n",
    "\n",
    "t2_tweets=[tweet[1] for tweet in t2_tweets]"
   ]
  },
  {
   "cell_type": "code",
   "execution_count": 24,
   "metadata": {},
   "outputs": [],
   "source": [
    "# Count the number of distinct words to create a vector (Bag of Words approach)\n",
    "for tweet in combined_tweets:\n",
    "    tokens=cleantweet(tweet)\n",
    "    for token in tokens:\n",
    "        if token in worddict:\n",
    "            worddict[token]=worddict[token]+1\n",
    "        else:\n",
    "            worddict[token]=1"
   ]
  },
  {
   "cell_type": "code",
   "execution_count": 25,
   "metadata": {},
   "outputs": [
    {
     "name": "stdout",
     "output_type": "stream",
     "text": [
      "43884\n"
     ]
    }
   ],
   "source": [
    "# This will tell you how long the vector has to be for the BoW approach\n",
    "vector_len=len(worddict)\n",
    "print(vector_len)"
   ]
  },
  {
   "cell_type": "code",
   "execution_count": 26,
   "metadata": {},
   "outputs": [],
   "source": [
    "# In case of saving and resuming, do not have to run the entire notebook again \n",
    "with open('bow.json','w') as outfile:\n",
    "    json.dump(worddict,outfile)"
   ]
  },
  {
   "cell_type": "code",
   "execution_count": 27,
   "metadata": {},
   "outputs": [],
   "source": [
    "# function to create a bog of words based on the tweets (can swap out the NLTK tokenizer with spacy tokenizer here)\n",
    "def bow(tweets,worddict,vector_len):\n",
    "    bow=np.zeros((len(tweets),vector_len),dtype=np.int8) # memory on this is a problem,use smaller dataset with this method\n",
    "    words=list(worddict.keys())\n",
    "    for i in range(len(tweets)):\n",
    "        tokens=cleantweet(tweets[i])\n",
    "        vector=np.zeros((vector_len))\n",
    "        for token in tokens:\n",
    "            if token in words:\n",
    "                vector[words.index(token)]=1\n",
    "        bow[i,:]=vector\n",
    "    return bow"
   ]
  },
  {
   "cell_type": "code",
   "execution_count": 28,
   "metadata": {},
   "outputs": [],
   "source": [
    "# get the BOW for the kaggle dataset, the old senators, and the new senators (will take a few minutes to run!)\n",
    "kaggle_train=bow(training_tweets,worddict,vector_len)\n",
    "old_senators_bow=bow(t2_tweets,worddict,vector_len)\n",
    "new_senators_bow=bow(tweet_text,worddict,vector_len)"
   ]
  },
  {
   "cell_type": "code",
   "execution_count": 29,
   "metadata": {},
   "outputs": [],
   "source": [
    "# set the answers for the kaggle dataset for training \n",
    "target=np.array(target,dtype=np.int8)"
   ]
  },
  {
   "cell_type": "code",
   "execution_count": 30,
   "metadata": {},
   "outputs": [],
   "source": [
    "# Initialize the two Linear classifiers for a baseline model (should not need import statement here)\n",
    "leaning=SGDClassifier()\n",
    "state_pred=SGDClassifier()"
   ]
  },
  {
   "cell_type": "code",
   "execution_count": 31,
   "metadata": {},
   "outputs": [
    {
     "data": {
      "text/plain": [
       "(86460, 43884)"
      ]
     },
     "execution_count": 31,
     "metadata": {},
     "output_type": "execute_result"
    }
   ],
   "source": [
    "kaggle_train.shape"
   ]
  },
  {
   "cell_type": "code",
   "execution_count": 32,
   "metadata": {},
   "outputs": [],
   "source": [
    "kaggle_train=sp.csr_matrix(kaggle_train)"
   ]
  },
  {
   "cell_type": "code",
   "execution_count": 33,
   "metadata": {},
   "outputs": [
    {
     "name": "stderr",
     "output_type": "stream",
     "text": [
      "C:\\Users\\xeshi\\Anaconda3\\lib\\site-packages\\sklearn\\linear_model\\stochastic_gradient.py:166: FutureWarning: max_iter and tol parameters have been added in SGDClassifier in 0.19. If both are left unset, they default to max_iter=5 and tol=None. If tol is not None, max_iter defaults to max_iter=1000. From 0.21, default max_iter will be 1000, and default tol will be 1e-3.\n",
      "  FutureWarning)\n"
     ]
    },
    {
     "data": {
      "text/plain": [
       "SGDClassifier(alpha=0.0001, average=False, class_weight=None,\n",
       "       early_stopping=False, epsilon=0.1, eta0=0.0, fit_intercept=True,\n",
       "       l1_ratio=0.15, learning_rate='optimal', loss='hinge', max_iter=None,\n",
       "       n_iter=None, n_iter_no_change=5, n_jobs=None, penalty='l2',\n",
       "       power_t=0.5, random_state=None, shuffle=True, tol=None,\n",
       "       validation_fraction=0.1, verbose=0, warm_start=False)"
      ]
     },
     "execution_count": 33,
     "metadata": {},
     "output_type": "execute_result"
    }
   ],
   "source": [
    "# Fit the first classifer on the first training data, looking to classify conservative/liberal tweets\n",
    "leaning.fit(kaggle_train,target)"
   ]
  },
  {
   "cell_type": "code",
   "execution_count": 34,
   "metadata": {},
   "outputs": [],
   "source": [
    "# send through the old senator training data, get a prediction, and then use that data to train the second classifier\n",
    "old_sen_class=leaning.predict(old_senators_bow)"
   ]
  },
  {
   "cell_type": "code",
   "execution_count": 35,
   "metadata": {},
   "outputs": [],
   "source": [
    "# grab tweets 100 at a time, and turn them into tuples (num_con,num_lib) per state (can probably make this a function)\n",
    "def tweettuples(predictions):\n",
    "    vec2=[]\n",
    "    for i in range(50):\n",
    "        offset=i*100\n",
    "        num_con=0\n",
    "        for j in range(100):\n",
    "            if predictions[offset+j]==1:\n",
    "                num_con=num_con+1\n",
    "        append=[num_con,100-num_con]\n",
    "        vec2.append(append)\n",
    "    return vec2\n"
   ]
  },
  {
   "cell_type": "code",
   "execution_count": 36,
   "metadata": {},
   "outputs": [],
   "source": [
    "# get the tuples of (conservative,liberal)\n",
    "old_sen_tuples=tweettuples(old_sen_class)\n",
    "old_sen_tuples=np.array(old_sen_tuples)"
   ]
  },
  {
   "cell_type": "code",
   "execution_count": 37,
   "metadata": {},
   "outputs": [],
   "source": [
    "# how each state voted in 2016 (manually entered in here)\n",
    "actual_outcome_2016=[1,1,1,1,0,0,0,0,1,1,0,1,0,1,1,1,1,1,0,0,0,1,0,1,1,1,1,0,0,0,0,0,1,1,1,1,0,1,0,1,1,1,1,1,0,0,0,1,1,1]\n",
    "actual_outcome_2016=np.array(actual_outcome_2016)"
   ]
  },
  {
   "cell_type": "code",
   "execution_count": 38,
   "metadata": {},
   "outputs": [
    {
     "name": "stderr",
     "output_type": "stream",
     "text": [
      "C:\\Users\\xeshi\\Anaconda3\\lib\\site-packages\\sklearn\\linear_model\\stochastic_gradient.py:166: FutureWarning: max_iter and tol parameters have been added in SGDClassifier in 0.19. If both are left unset, they default to max_iter=5 and tol=None. If tol is not None, max_iter defaults to max_iter=1000. From 0.21, default max_iter will be 1000, and default tol will be 1e-3.\n",
      "  FutureWarning)\n"
     ]
    },
    {
     "data": {
      "text/plain": [
       "SGDClassifier(alpha=0.0001, average=False, class_weight=None,\n",
       "       early_stopping=False, epsilon=0.1, eta0=0.0, fit_intercept=True,\n",
       "       l1_ratio=0.15, learning_rate='optimal', loss='hinge', max_iter=None,\n",
       "       n_iter=None, n_iter_no_change=5, n_jobs=None, penalty='l2',\n",
       "       power_t=0.5, random_state=None, shuffle=True, tol=None,\n",
       "       validation_fraction=0.1, verbose=0, warm_start=False)"
      ]
     },
     "execution_count": 38,
     "metadata": {},
     "output_type": "execute_result"
    }
   ],
   "source": [
    "# Fit the classifier with this training data \n",
    "state_pred.fit(old_sen_tuples,actual_outcome_2016)"
   ]
  },
  {
   "cell_type": "code",
   "execution_count": 39,
   "metadata": {},
   "outputs": [],
   "source": [
    "actual_outcome_2018=[1,1,0,1,0,0,0,0,1,1,0,1,0,1,0,1,1,1,0,0,0,0,0,1,1,1,1,0,0,0,0,0,1,1,1,1,0,0,0,1,1,1,1,1,0,0,0,1,0,1]\n",
    "actual_outcome_2018=np.array(actual_outcome_2018)"
   ]
  },
  {
   "cell_type": "code",
   "execution_count": 40,
   "metadata": {},
   "outputs": [
    {
     "data": {
      "text/plain": [
       "0.8"
      ]
     },
     "execution_count": 40,
     "metadata": {},
     "output_type": "execute_result"
    }
   ],
   "source": [
    "# run the test data through the two classifiers and assess the accuracy\n",
    "new_senators_bow=sp.csr_matrix(new_senators_bow)\n",
    "new_sen_class=leaning.predict(new_senators_bow)\n",
    "new_sen_tuples=tweettuples(new_sen_class)\n",
    "new_sen_tuples=np.array(new_sen_tuples)\n",
    "state_pred.score(new_sen_tuples,actual_outcome_2018)"
   ]
  },
  {
   "cell_type": "code",
   "execution_count": 41,
   "metadata": {},
   "outputs": [
    {
     "data": {
      "text/plain": [
       "(0, 100)"
      ]
     },
     "execution_count": 41,
     "metadata": {},
     "output_type": "execute_result"
    },
    {
     "data": {
      "image/png": "[encoded data removed]",
      "text/plain": [
       "<Figure size 720x288 with 2 Axes>"
      ]
     },
     "metadata": {
      "needs_background": "light"
     },
     "output_type": "display_data"
    }
   ],
   "source": [
    "# PLot the data to see what was the problem with the classification (red is republican, blue is democrat)\n",
    "x1=[]\n",
    "y1=[]\n",
    "x2=[]\n",
    "y2=[]\n",
    "for i in range(50):\n",
    "    data=new_sen_tuples[i]\n",
    "    if actual_outcome_2018[i]==1:\n",
    "        x1.append(data[0])\n",
    "        y1.append(data[1])\n",
    "    else:\n",
    "        x2.append(data[0])\n",
    "        y2.append(data[1])\n",
    "\n",
    "plt.figure(figsize=(10,4))\n",
    "ax1=plt.subplot(1,2,1)\n",
    "ax1.title.set_text(\"Republican Tuples\")\n",
    "ax1.set_ylabel(\"Number of Liberal Tweets\")\n",
    "ax1.set_xlabel(\"Number of Conservative Tweets\")\n",
    "plt.scatter(x1,y1,marker='x',color='r')\n",
    "plt.ylim(0,100)\n",
    "plt.xlim(0,100)\n",
    "ax2=plt.subplot(1,2,2)\n",
    "ax2.title.set_text(\"Democrat Tuples\")\n",
    "ax2.set_ylabel(\"Number of Liberal Tweets\")\n",
    "ax2.set_xlabel(\"Number of Conservative Tweets\")\n",
    "plt.scatter(x2,y2,marker='x',color='b')\n",
    "plt.ylim(0,100)\n",
    "plt.xlim(0,100)"
   ]
  },
  {
   "cell_type": "markdown",
   "metadata": {},
   "source": [
    "The initial classifer is doing a pretty good job at classifying tweets as conservative or liberal, as evidenced by the accuracy score. I did find this accuracy to be pretty impressive and unexpected. The success of the BoW models suggests that indeed senators from different parties are using different words and language when talking to their constituents (as this is what the BoW method captures). It will be interesting to see what, if any difference the RNN can make in this process.\n",
    "\n",
    "A good reason to consider an RNN in this approach is that the size of the data for BoW is impressively large (2.88 GB uncompressed). Hopefully, and RNN can make similar/better predictions using less data. "
   ]
  },
  {
   "cell_type": "code",
   "execution_count": 42,
   "metadata": {},
   "outputs": [],
   "source": [
    "# multiclass classifiers 1-5+ Democrat, 2= +1-5 Democrat, 3= +1-5 Republican, 4=5+ Republican\n",
    "# manually inputted from 538 and CNN data \n",
    "multi_2016=[4,4,3,4,1,2,1,1,3,4,1,4,1,4,4,4,4,4,2,1,1,3,2,4,4,4,4,2,2,1,1,1,3,3,4,4,1,3,1,4,4,4,4,4,1,1,1,4,3,4]\n",
    "multi_2018=[4,4,3,4,1,1,1,1,2,4,1,4,1,4,2,4,4,4,1,1,1,1,1,4,4,4,4,1,1,1,1,1,3,4,4,4,1,1,1,4,4,4,3,4,1,1,1,4,1,4]"
   ]
  },
  {
   "cell_type": "code",
   "execution_count": 43,
   "metadata": {},
   "outputs": [],
   "source": [
    "# a simple multiclass classifier that will use SGD as the metric\n",
    "state_pred_margin=OneVsRestClassifier(SGDClassifier())"
   ]
  },
  {
   "cell_type": "code",
   "execution_count": 44,
   "metadata": {},
   "outputs": [
    {
     "name": "stderr",
     "output_type": "stream",
     "text": [
      "C:\\Users\\xeshi\\Anaconda3\\lib\\site-packages\\sklearn\\linear_model\\stochastic_gradient.py:166: FutureWarning: max_iter and tol parameters have been added in SGDClassifier in 0.19. If both are left unset, they default to max_iter=5 and tol=None. If tol is not None, max_iter defaults to max_iter=1000. From 0.21, default max_iter will be 1000, and default tol will be 1e-3.\n",
      "  FutureWarning)\n",
      "C:\\Users\\xeshi\\Anaconda3\\lib\\site-packages\\sklearn\\linear_model\\stochastic_gradient.py:166: FutureWarning: max_iter and tol parameters have been added in SGDClassifier in 0.19. If both are left unset, they default to max_iter=5 and tol=None. If tol is not None, max_iter defaults to max_iter=1000. From 0.21, default max_iter will be 1000, and default tol will be 1e-3.\n",
      "  FutureWarning)\n",
      "C:\\Users\\xeshi\\Anaconda3\\lib\\site-packages\\sklearn\\linear_model\\stochastic_gradient.py:166: FutureWarning: max_iter and tol parameters have been added in SGDClassifier in 0.19. If both are left unset, they default to max_iter=5 and tol=None. If tol is not None, max_iter defaults to max_iter=1000. From 0.21, default max_iter will be 1000, and default tol will be 1e-3.\n",
      "  FutureWarning)\n",
      "C:\\Users\\xeshi\\Anaconda3\\lib\\site-packages\\sklearn\\linear_model\\stochastic_gradient.py:166: FutureWarning: max_iter and tol parameters have been added in SGDClassifier in 0.19. If both are left unset, they default to max_iter=5 and tol=None. If tol is not None, max_iter defaults to max_iter=1000. From 0.21, default max_iter will be 1000, and default tol will be 1e-3.\n",
      "  FutureWarning)\n"
     ]
    },
    {
     "data": {
      "text/plain": [
       "OneVsRestClassifier(estimator=SGDClassifier(alpha=0.0001, average=False, class_weight=None,\n",
       "       early_stopping=False, epsilon=0.1, eta0=0.0, fit_intercept=True,\n",
       "       l1_ratio=0.15, learning_rate='optimal', loss='hinge', max_iter=None,\n",
       "       n_iter=None, n_iter_no_change=5, n_jobs=None, penalty='l2',\n",
       "       power_t=0.5, random_state=None, shuffle=True, tol=None,\n",
       "       validation_fraction=0.1, verbose=0, warm_start=False),\n",
       "          n_jobs=None)"
      ]
     },
     "execution_count": 44,
     "metadata": {},
     "output_type": "execute_result"
    }
   ],
   "source": [
    "state_pred_margin.fit(old_sen_tuples,multi_2016)"
   ]
  },
  {
   "cell_type": "code",
   "execution_count": 93,
   "metadata": {},
   "outputs": [
    {
     "data": {
      "text/plain": [
       "0.86"
      ]
     },
     "execution_count": 93,
     "metadata": {},
     "output_type": "execute_result"
    }
   ],
   "source": [
    "state_pred_margin.score(new_sen_tuples,multi_2018)"
   ]
  },
  {
   "cell_type": "code",
   "execution_count": 94,
   "metadata": {},
   "outputs": [],
   "source": [
    "pred=state_pred_margin.predict(new_sen_tuples)"
   ]
  },
  {
   "cell_type": "code",
   "execution_count": 133,
   "metadata": {},
   "outputs": [],
   "source": [
    "agree=[]\n",
    "for i in range(50):\n",
    "    agree.append(pred[i]==multi_2018[i])"
   ]
  },
  {
   "cell_type": "code",
   "execution_count": 109,
   "metadata": {},
   "outputs": [],
   "source": [
    "def converttotext(n):\n",
    "    if n==1:\n",
    "        return \"Solid D (+5)\"\n",
    "    if n==2:\n",
    "        return \"Leans D (+1-5)\"\n",
    "    if n==3:\n",
    "        return \"Leans R (+1-5)\"\n",
    "    if n==4:\n",
    "        return \"Solid R (+5)\"\n",
    "pred_text=[]\n",
    "actual_text=[]\n",
    "for i in range(50):\n",
    "    pred_text.append(converttotext(pred[i]))\n",
    "    actual_text.append(converttotext(multi_2018[i]))"
   ]
  },
  {
   "cell_type": "code",
   "execution_count": 132,
   "metadata": {},
   "outputs": [],
   "source": [
    "new_sen_tuples=tweettuples(new_sen_class)"
   ]
  },
  {
   "cell_type": "code",
   "execution_count": 134,
   "metadata": {},
   "outputs": [
    {
     "data": {
      "text/html": [
       "<div>\n",
       "<style scoped>\n",
       "    .dataframe tbody tr th:only-of-type {\n",
       "        vertical-align: middle;\n",
       "    }\n",
       "\n",
       "    .dataframe tbody tr th {\n",
       "        vertical-align: top;\n",
       "    }\n",
       "\n",
       "    .dataframe thead th {\n",
       "        text-align: right;\n",
       "    }\n",
       "</style>\n",
       "<table border=\"1\" class=\"dataframe\">\n",
       "  <thead>\n",
       "    <tr style=\"text-align: right;\">\n",
       "      <th></th>\n",
       "      <th>State</th>\n",
       "      <th>Tuples</th>\n",
       "      <th>Predicted</th>\n",
       "      <th>Actual</th>\n",
       "      <th>Agreement</th>\n",
       "    </tr>\n",
       "  </thead>\n",
       "  <tbody>\n",
       "    <tr>\n",
       "      <th>0</th>\n",
       "      <td>Alabama</td>\n",
       "      <td>[66, 34]</td>\n",
       "      <td>Solid R (+5)</td>\n",
       "      <td>Solid R (+5)</td>\n",
       "      <td>True</td>\n",
       "    </tr>\n",
       "    <tr>\n",
       "      <th>1</th>\n",
       "      <td>Alaska</td>\n",
       "      <td>[55, 45]</td>\n",
       "      <td>Solid R (+5)</td>\n",
       "      <td>Solid R (+5)</td>\n",
       "      <td>True</td>\n",
       "    </tr>\n",
       "    <tr>\n",
       "      <th>2</th>\n",
       "      <td>Arizona</td>\n",
       "      <td>[47, 53]</td>\n",
       "      <td>Solid R (+5)</td>\n",
       "      <td>Leans R (+1-5)</td>\n",
       "      <td>False</td>\n",
       "    </tr>\n",
       "    <tr>\n",
       "      <th>3</th>\n",
       "      <td>Arkansas</td>\n",
       "      <td>[66, 34]</td>\n",
       "      <td>Solid R (+5)</td>\n",
       "      <td>Solid R (+5)</td>\n",
       "      <td>True</td>\n",
       "    </tr>\n",
       "    <tr>\n",
       "      <th>4</th>\n",
       "      <td>California</td>\n",
       "      <td>[13, 87]</td>\n",
       "      <td>Solid D (+5)</td>\n",
       "      <td>Solid D (+5)</td>\n",
       "      <td>True</td>\n",
       "    </tr>\n",
       "    <tr>\n",
       "      <th>5</th>\n",
       "      <td>Colorado</td>\n",
       "      <td>[42, 58]</td>\n",
       "      <td>Solid R (+5)</td>\n",
       "      <td>Solid D (+5)</td>\n",
       "      <td>False</td>\n",
       "    </tr>\n",
       "    <tr>\n",
       "      <th>6</th>\n",
       "      <td>Connecticut</td>\n",
       "      <td>[13, 87]</td>\n",
       "      <td>Solid D (+5)</td>\n",
       "      <td>Solid D (+5)</td>\n",
       "      <td>True</td>\n",
       "    </tr>\n",
       "    <tr>\n",
       "      <th>7</th>\n",
       "      <td>Delaware</td>\n",
       "      <td>[31, 69]</td>\n",
       "      <td>Solid D (+5)</td>\n",
       "      <td>Solid D (+5)</td>\n",
       "      <td>True</td>\n",
       "    </tr>\n",
       "    <tr>\n",
       "      <th>8</th>\n",
       "      <td>Florida</td>\n",
       "      <td>[68, 32]</td>\n",
       "      <td>Solid R (+5)</td>\n",
       "      <td>Leans D (+1-5)</td>\n",
       "      <td>False</td>\n",
       "    </tr>\n",
       "    <tr>\n",
       "      <th>9</th>\n",
       "      <td>Georgia</td>\n",
       "      <td>[70, 30]</td>\n",
       "      <td>Solid R (+5)</td>\n",
       "      <td>Solid R (+5)</td>\n",
       "      <td>True</td>\n",
       "    </tr>\n",
       "    <tr>\n",
       "      <th>10</th>\n",
       "      <td>Hawaii</td>\n",
       "      <td>[20, 80]</td>\n",
       "      <td>Solid D (+5)</td>\n",
       "      <td>Solid D (+5)</td>\n",
       "      <td>True</td>\n",
       "    </tr>\n",
       "    <tr>\n",
       "      <th>11</th>\n",
       "      <td>Idaho</td>\n",
       "      <td>[69, 31]</td>\n",
       "      <td>Solid R (+5)</td>\n",
       "      <td>Solid R (+5)</td>\n",
       "      <td>True</td>\n",
       "    </tr>\n",
       "    <tr>\n",
       "      <th>12</th>\n",
       "      <td>Illinois</td>\n",
       "      <td>[14, 86]</td>\n",
       "      <td>Solid D (+5)</td>\n",
       "      <td>Solid D (+5)</td>\n",
       "      <td>True</td>\n",
       "    </tr>\n",
       "    <tr>\n",
       "      <th>13</th>\n",
       "      <td>Indiana</td>\n",
       "      <td>[68, 32]</td>\n",
       "      <td>Solid R (+5)</td>\n",
       "      <td>Solid R (+5)</td>\n",
       "      <td>True</td>\n",
       "    </tr>\n",
       "    <tr>\n",
       "      <th>14</th>\n",
       "      <td>Iowa</td>\n",
       "      <td>[54, 46]</td>\n",
       "      <td>Solid R (+5)</td>\n",
       "      <td>Leans D (+1-5)</td>\n",
       "      <td>False</td>\n",
       "    </tr>\n",
       "    <tr>\n",
       "      <th>15</th>\n",
       "      <td>Kansas</td>\n",
       "      <td>[67, 33]</td>\n",
       "      <td>Solid R (+5)</td>\n",
       "      <td>Solid R (+5)</td>\n",
       "      <td>True</td>\n",
       "    </tr>\n",
       "    <tr>\n",
       "      <th>16</th>\n",
       "      <td>Kentucky</td>\n",
       "      <td>[46, 54]</td>\n",
       "      <td>Solid R (+5)</td>\n",
       "      <td>Solid R (+5)</td>\n",
       "      <td>True</td>\n",
       "    </tr>\n",
       "    <tr>\n",
       "      <th>17</th>\n",
       "      <td>Louisiana</td>\n",
       "      <td>[62, 38]</td>\n",
       "      <td>Solid R (+5)</td>\n",
       "      <td>Solid R (+5)</td>\n",
       "      <td>True</td>\n",
       "    </tr>\n",
       "    <tr>\n",
       "      <th>18</th>\n",
       "      <td>Maine</td>\n",
       "      <td>[35, 65]</td>\n",
       "      <td>Solid D (+5)</td>\n",
       "      <td>Solid D (+5)</td>\n",
       "      <td>True</td>\n",
       "    </tr>\n",
       "    <tr>\n",
       "      <th>19</th>\n",
       "      <td>Maryland</td>\n",
       "      <td>[21, 79]</td>\n",
       "      <td>Solid D (+5)</td>\n",
       "      <td>Solid D (+5)</td>\n",
       "      <td>True</td>\n",
       "    </tr>\n",
       "    <tr>\n",
       "      <th>20</th>\n",
       "      <td>Massachusetts</td>\n",
       "      <td>[17, 83]</td>\n",
       "      <td>Solid D (+5)</td>\n",
       "      <td>Solid D (+5)</td>\n",
       "      <td>True</td>\n",
       "    </tr>\n",
       "    <tr>\n",
       "      <th>21</th>\n",
       "      <td>Michigan</td>\n",
       "      <td>[23, 77]</td>\n",
       "      <td>Solid D (+5)</td>\n",
       "      <td>Solid D (+5)</td>\n",
       "      <td>True</td>\n",
       "    </tr>\n",
       "    <tr>\n",
       "      <th>22</th>\n",
       "      <td>Minnesota</td>\n",
       "      <td>[19, 81]</td>\n",
       "      <td>Solid D (+5)</td>\n",
       "      <td>Solid D (+5)</td>\n",
       "      <td>True</td>\n",
       "    </tr>\n",
       "    <tr>\n",
       "      <th>23</th>\n",
       "      <td>Mississippi</td>\n",
       "      <td>[47, 53]</td>\n",
       "      <td>Solid R (+5)</td>\n",
       "      <td>Solid R (+5)</td>\n",
       "      <td>True</td>\n",
       "    </tr>\n",
       "    <tr>\n",
       "      <th>24</th>\n",
       "      <td>Missouri</td>\n",
       "      <td>[52, 48]</td>\n",
       "      <td>Solid R (+5)</td>\n",
       "      <td>Solid R (+5)</td>\n",
       "      <td>True</td>\n",
       "    </tr>\n",
       "    <tr>\n",
       "      <th>25</th>\n",
       "      <td>Montana</td>\n",
       "      <td>[74, 26]</td>\n",
       "      <td>Solid R (+5)</td>\n",
       "      <td>Solid R (+5)</td>\n",
       "      <td>True</td>\n",
       "    </tr>\n",
       "    <tr>\n",
       "      <th>26</th>\n",
       "      <td>Nebraska</td>\n",
       "      <td>[76, 24]</td>\n",
       "      <td>Solid R (+5)</td>\n",
       "      <td>Solid R (+5)</td>\n",
       "      <td>True</td>\n",
       "    </tr>\n",
       "    <tr>\n",
       "      <th>27</th>\n",
       "      <td>Nevada</td>\n",
       "      <td>[20, 80]</td>\n",
       "      <td>Solid D (+5)</td>\n",
       "      <td>Solid D (+5)</td>\n",
       "      <td>True</td>\n",
       "    </tr>\n",
       "    <tr>\n",
       "      <th>28</th>\n",
       "      <td>New Hampshire</td>\n",
       "      <td>[17, 83]</td>\n",
       "      <td>Solid D (+5)</td>\n",
       "      <td>Solid D (+5)</td>\n",
       "      <td>True</td>\n",
       "    </tr>\n",
       "    <tr>\n",
       "      <th>29</th>\n",
       "      <td>New Jersey</td>\n",
       "      <td>[27, 73]</td>\n",
       "      <td>Solid D (+5)</td>\n",
       "      <td>Solid D (+5)</td>\n",
       "      <td>True</td>\n",
       "    </tr>\n",
       "    <tr>\n",
       "      <th>30</th>\n",
       "      <td>New Mexico</td>\n",
       "      <td>[19, 81]</td>\n",
       "      <td>Solid D (+5)</td>\n",
       "      <td>Solid D (+5)</td>\n",
       "      <td>True</td>\n",
       "    </tr>\n",
       "    <tr>\n",
       "      <th>31</th>\n",
       "      <td>New York</td>\n",
       "      <td>[11, 89]</td>\n",
       "      <td>Solid D (+5)</td>\n",
       "      <td>Solid D (+5)</td>\n",
       "      <td>True</td>\n",
       "    </tr>\n",
       "    <tr>\n",
       "      <th>32</th>\n",
       "      <td>North Carolina</td>\n",
       "      <td>[56, 44]</td>\n",
       "      <td>Solid R (+5)</td>\n",
       "      <td>Leans R (+1-5)</td>\n",
       "      <td>False</td>\n",
       "    </tr>\n",
       "    <tr>\n",
       "      <th>33</th>\n",
       "      <td>North Dakota</td>\n",
       "      <td>[72, 28]</td>\n",
       "      <td>Solid R (+5)</td>\n",
       "      <td>Solid R (+5)</td>\n",
       "      <td>True</td>\n",
       "    </tr>\n",
       "    <tr>\n",
       "      <th>34</th>\n",
       "      <td>Ohio</td>\n",
       "      <td>[43, 57]</td>\n",
       "      <td>Solid R (+5)</td>\n",
       "      <td>Solid R (+5)</td>\n",
       "      <td>True</td>\n",
       "    </tr>\n",
       "    <tr>\n",
       "      <th>35</th>\n",
       "      <td>Oklahoma</td>\n",
       "      <td>[74, 26]</td>\n",
       "      <td>Solid R (+5)</td>\n",
       "      <td>Solid R (+5)</td>\n",
       "      <td>True</td>\n",
       "    </tr>\n",
       "    <tr>\n",
       "      <th>36</th>\n",
       "      <td>Oregon</td>\n",
       "      <td>[12, 88]</td>\n",
       "      <td>Solid D (+5)</td>\n",
       "      <td>Solid D (+5)</td>\n",
       "      <td>True</td>\n",
       "    </tr>\n",
       "    <tr>\n",
       "      <th>37</th>\n",
       "      <td>Pennsylvania</td>\n",
       "      <td>[34, 66]</td>\n",
       "      <td>Solid D (+5)</td>\n",
       "      <td>Solid D (+5)</td>\n",
       "      <td>True</td>\n",
       "    </tr>\n",
       "    <tr>\n",
       "      <th>38</th>\n",
       "      <td>Rhode Island</td>\n",
       "      <td>[22, 78]</td>\n",
       "      <td>Solid D (+5)</td>\n",
       "      <td>Solid D (+5)</td>\n",
       "      <td>True</td>\n",
       "    </tr>\n",
       "    <tr>\n",
       "      <th>39</th>\n",
       "      <td>South Carolina</td>\n",
       "      <td>[60, 40]</td>\n",
       "      <td>Solid R (+5)</td>\n",
       "      <td>Solid R (+5)</td>\n",
       "      <td>True</td>\n",
       "    </tr>\n",
       "    <tr>\n",
       "      <th>40</th>\n",
       "      <td>South Dakota</td>\n",
       "      <td>[75, 25]</td>\n",
       "      <td>Solid R (+5)</td>\n",
       "      <td>Solid R (+5)</td>\n",
       "      <td>True</td>\n",
       "    </tr>\n",
       "    <tr>\n",
       "      <th>41</th>\n",
       "      <td>Tennessee</td>\n",
       "      <td>[63, 37]</td>\n",
       "      <td>Solid R (+5)</td>\n",
       "      <td>Solid R (+5)</td>\n",
       "      <td>True</td>\n",
       "    </tr>\n",
       "    <tr>\n",
       "      <th>42</th>\n",
       "      <td>Texas</td>\n",
       "      <td>[45, 55]</td>\n",
       "      <td>Solid R (+5)</td>\n",
       "      <td>Leans R (+1-5)</td>\n",
       "      <td>False</td>\n",
       "    </tr>\n",
       "    <tr>\n",
       "      <th>43</th>\n",
       "      <td>Utah</td>\n",
       "      <td>[50, 50]</td>\n",
       "      <td>Solid R (+5)</td>\n",
       "      <td>Solid R (+5)</td>\n",
       "      <td>True</td>\n",
       "    </tr>\n",
       "    <tr>\n",
       "      <th>44</th>\n",
       "      <td>Vermont</td>\n",
       "      <td>[28, 72]</td>\n",
       "      <td>Solid D (+5)</td>\n",
       "      <td>Solid D (+5)</td>\n",
       "      <td>True</td>\n",
       "    </tr>\n",
       "    <tr>\n",
       "      <th>45</th>\n",
       "      <td>Virginia</td>\n",
       "      <td>[22, 78]</td>\n",
       "      <td>Solid D (+5)</td>\n",
       "      <td>Solid D (+5)</td>\n",
       "      <td>True</td>\n",
       "    </tr>\n",
       "    <tr>\n",
       "      <th>46</th>\n",
       "      <td>Washington</td>\n",
       "      <td>[33, 67]</td>\n",
       "      <td>Solid D (+5)</td>\n",
       "      <td>Solid D (+5)</td>\n",
       "      <td>True</td>\n",
       "    </tr>\n",
       "    <tr>\n",
       "      <th>47</th>\n",
       "      <td>West Virginia</td>\n",
       "      <td>[54, 46]</td>\n",
       "      <td>Solid R (+5)</td>\n",
       "      <td>Solid R (+5)</td>\n",
       "      <td>True</td>\n",
       "    </tr>\n",
       "    <tr>\n",
       "      <th>48</th>\n",
       "      <td>Wisconsin</td>\n",
       "      <td>[46, 54]</td>\n",
       "      <td>Solid R (+5)</td>\n",
       "      <td>Solid D (+5)</td>\n",
       "      <td>False</td>\n",
       "    </tr>\n",
       "    <tr>\n",
       "      <th>49</th>\n",
       "      <td>Wyoming</td>\n",
       "      <td>[48, 52]</td>\n",
       "      <td>Solid R (+5)</td>\n",
       "      <td>Solid R (+5)</td>\n",
       "      <td>True</td>\n",
       "    </tr>\n",
       "  </tbody>\n",
       "</table>\n",
       "</div>"
      ],
      "text/plain": [
       "             State    Tuples     Predicted          Actual  Agreement\n",
       "0          Alabama  [66, 34]  Solid R (+5)    Solid R (+5)       True\n",
       "1           Alaska  [55, 45]  Solid R (+5)    Solid R (+5)       True\n",
       "2          Arizona  [47, 53]  Solid R (+5)  Leans R (+1-5)      False\n",
       "3         Arkansas  [66, 34]  Solid R (+5)    Solid R (+5)       True\n",
       "4       California  [13, 87]  Solid D (+5)    Solid D (+5)       True\n",
       "5         Colorado  [42, 58]  Solid R (+5)    Solid D (+5)      False\n",
       "6      Connecticut  [13, 87]  Solid D (+5)    Solid D (+5)       True\n",
       "7         Delaware  [31, 69]  Solid D (+5)    Solid D (+5)       True\n",
       "8          Florida  [68, 32]  Solid R (+5)  Leans D (+1-5)      False\n",
       "9          Georgia  [70, 30]  Solid R (+5)    Solid R (+5)       True\n",
       "10          Hawaii  [20, 80]  Solid D (+5)    Solid D (+5)       True\n",
       "11           Idaho  [69, 31]  Solid R (+5)    Solid R (+5)       True\n",
       "12        Illinois  [14, 86]  Solid D (+5)    Solid D (+5)       True\n",
       "13         Indiana  [68, 32]  Solid R (+5)    Solid R (+5)       True\n",
       "14            Iowa  [54, 46]  Solid R (+5)  Leans D (+1-5)      False\n",
       "15          Kansas  [67, 33]  Solid R (+5)    Solid R (+5)       True\n",
       "16        Kentucky  [46, 54]  Solid R (+5)    Solid R (+5)       True\n",
       "17       Louisiana  [62, 38]  Solid R (+5)    Solid R (+5)       True\n",
       "18           Maine  [35, 65]  Solid D (+5)    Solid D (+5)       True\n",
       "19        Maryland  [21, 79]  Solid D (+5)    Solid D (+5)       True\n",
       "20   Massachusetts  [17, 83]  Solid D (+5)    Solid D (+5)       True\n",
       "21        Michigan  [23, 77]  Solid D (+5)    Solid D (+5)       True\n",
       "22       Minnesota  [19, 81]  Solid D (+5)    Solid D (+5)       True\n",
       "23     Mississippi  [47, 53]  Solid R (+5)    Solid R (+5)       True\n",
       "24        Missouri  [52, 48]  Solid R (+5)    Solid R (+5)       True\n",
       "25         Montana  [74, 26]  Solid R (+5)    Solid R (+5)       True\n",
       "26        Nebraska  [76, 24]  Solid R (+5)    Solid R (+5)       True\n",
       "27          Nevada  [20, 80]  Solid D (+5)    Solid D (+5)       True\n",
       "28   New Hampshire  [17, 83]  Solid D (+5)    Solid D (+5)       True\n",
       "29      New Jersey  [27, 73]  Solid D (+5)    Solid D (+5)       True\n",
       "30      New Mexico  [19, 81]  Solid D (+5)    Solid D (+5)       True\n",
       "31        New York  [11, 89]  Solid D (+5)    Solid D (+5)       True\n",
       "32  North Carolina  [56, 44]  Solid R (+5)  Leans R (+1-5)      False\n",
       "33    North Dakota  [72, 28]  Solid R (+5)    Solid R (+5)       True\n",
       "34            Ohio  [43, 57]  Solid R (+5)    Solid R (+5)       True\n",
       "35        Oklahoma  [74, 26]  Solid R (+5)    Solid R (+5)       True\n",
       "36          Oregon  [12, 88]  Solid D (+5)    Solid D (+5)       True\n",
       "37    Pennsylvania  [34, 66]  Solid D (+5)    Solid D (+5)       True\n",
       "38    Rhode Island  [22, 78]  Solid D (+5)    Solid D (+5)       True\n",
       "39  South Carolina  [60, 40]  Solid R (+5)    Solid R (+5)       True\n",
       "40    South Dakota  [75, 25]  Solid R (+5)    Solid R (+5)       True\n",
       "41       Tennessee  [63, 37]  Solid R (+5)    Solid R (+5)       True\n",
       "42           Texas  [45, 55]  Solid R (+5)  Leans R (+1-5)      False\n",
       "43            Utah  [50, 50]  Solid R (+5)    Solid R (+5)       True\n",
       "44         Vermont  [28, 72]  Solid D (+5)    Solid D (+5)       True\n",
       "45        Virginia  [22, 78]  Solid D (+5)    Solid D (+5)       True\n",
       "46      Washington  [33, 67]  Solid D (+5)    Solid D (+5)       True\n",
       "47   West Virginia  [54, 46]  Solid R (+5)    Solid R (+5)       True\n",
       "48       Wisconsin  [46, 54]  Solid R (+5)    Solid D (+5)      False\n",
       "49         Wyoming  [48, 52]  Solid R (+5)    Solid R (+5)       True"
      ]
     },
     "execution_count": 134,
     "metadata": {},
     "output_type": "execute_result"
    }
   ],
   "source": [
    "output2=pd.DataFrame()\n",
    "output2[\"State\"]=state\n",
    "output2[\"Tuples\"]=new_sen_tuples\n",
    "output2[\"Predicted\"]=pred_text\n",
    "output2[\"Actual\"]=actual_text\n",
    "output2[\"Agreement\"]=agree\n",
    "output2"
   ]
  },
  {
   "cell_type": "code",
   "execution_count": 135,
   "metadata": {},
   "outputs": [],
   "source": [
    "with open(\"BoW.csv\",'w') as outfile:\n",
    "    output2.to_csv(\"BoW_Data.csv\")"
   ]
  },
  {
   "cell_type": "code",
   "execution_count": 46,
   "metadata": {},
   "outputs": [
    {
     "data": {
      "text/plain": [
       "(0, 100)"
      ]
     },
     "execution_count": 46,
     "metadata": {},
     "output_type": "execute_result"
    },
    {
     "data": {
      "image/png": "[encoded data removed]",
      "text/plain": [
       "<Figure size 720x720 with 4 Axes>"
      ]
     },
     "metadata": {
      "needs_background": "light"
     },
     "output_type": "display_data"
    }
   ],
   "source": [
    "x1=[]\n",
    "y1=[]\n",
    "x2=[]\n",
    "y2=[]\n",
    "x3=[]\n",
    "y3=[]\n",
    "x4=[]\n",
    "y4=[]\n",
    "for i in range(50):\n",
    "    data=new_sen_tuples[i]\n",
    "    if multi_2018[i]==1:\n",
    "        x1.append(data[0])\n",
    "        y1.append(data[1])\n",
    "    elif multi_2018[i]==2:\n",
    "        x2.append(data[0])\n",
    "        y2.append(data[1])\n",
    "    elif multi_2018[i]==3:\n",
    "        x3.append(data[0])\n",
    "        y3.append(data[1])\n",
    "    else:\n",
    "        x4.append(data[0])\n",
    "        y4.append(data[1])\n",
    "\n",
    "plt.figure(figsize=(10,10))\n",
    "ax1=plt.subplot(2,2,1)\n",
    "ax1.title.set_text(\"Democrat Tuples, +5\")\n",
    "ax1.set_ylabel(\"Number of Liberal Tweets\")\n",
    "ax1.set_xlabel(\"Number of Conservative Tweets\")\n",
    "plt.scatter(x1,y1,marker='x',color='blue')\n",
    "plt.ylim(0,100)\n",
    "plt.xlim(0,100)\n",
    "ax2=plt.subplot(2,2,2)\n",
    "ax2.title.set_text(\"Democrat Tuples, 1-5\")\n",
    "ax2.set_ylabel(\"Number of Liberal Tweets\")\n",
    "ax2.set_xlabel(\"Number of Conservative Tweets\")\n",
    "plt.scatter(x2,y2,marker='x',color='skyblue')\n",
    "plt.ylim(0,100)\n",
    "plt.xlim(0,100)\n",
    "ax3=plt.subplot(2,2,3)\n",
    "ax3.title.set_text(\"Republican Tuples, 1-5\")\n",
    "ax3.set_ylabel(\"Number of Liberal Tweets\")\n",
    "ax3.set_xlabel(\"Number of Conservative Tweets\")\n",
    "plt.scatter(x3,y3,marker='x',color='lightcoral')\n",
    "plt.ylim(0,100)\n",
    "plt.xlim(0,100)\n",
    "ax4=plt.subplot(2,2,4)\n",
    "ax4.title.set_text(\"Republican Tuples, +5\")\n",
    "ax4.set_ylabel(\"Number of Liberal Tweets\")\n",
    "ax4.set_xlabel(\"Number of Conservative Tweets\")\n",
    "plt.scatter(x4,y4,marker='x',color='darkred')\n",
    "plt.ylim(0,100)\n",
    "plt.xlim(0,100)"
   ]
  },
  {
   "cell_type": "markdown",
   "metadata": {},
   "source": [
    "This multiclass accuracy using SGD classifer as the estimator is surprising, but it again lends credence to the idea that senators from each party are talking about different things."
   ]
  },
  {
   "cell_type": "code",
   "execution_count": 47,
   "metadata": {},
   "outputs": [],
   "source": [
    "# Import the word2vec pretrained google news model for the next methodology\n",
    "embed_map = word2vec.KeyedVectors.load_word2vec_format(\"GoogleNews-vectors-negative300.bin\", binary=True)"
   ]
  },
  {
   "cell_type": "code",
   "execution_count": 48,
   "metadata": {},
   "outputs": [],
   "source": [
    "# convert the tweets to vector data for the RNN to use\n",
    "def getvec(word):\n",
    "    if word not in embed_map.vocab:\n",
    "        return embed_map['random'] # maybe need a better word to use \n",
    "    else:\n",
    "        return embed_map[word]\n",
    "def tweettovec(tweets):\n",
    "    all_vec=[]       \n",
    "    for i in range(len(tweets)):\n",
    "        tokens=cleantweetspacy(tweets[i]) # can use the spacy module here and see if there is improvement\n",
    "        tweet_vec=[]\n",
    "        for token in tokens:\n",
    "            vec=getvec(token)\n",
    "            tweet_vec.append(vec)\n",
    "        all_vec.append(tweet_vec)\n",
    "    return all_vec"
   ]
  },
  {
   "cell_type": "code",
   "execution_count": 49,
   "metadata": {},
   "outputs": [],
   "source": [
    "training_tweets=[]\n",
    "target_training=[]\n",
    "for i in range(len(training_df2)):\n",
    "    training_tweets.append(training_df2[\"Tweet\"][i])\n",
    "    if training_df2[\"Party\"][i]==\"Democrat\":\n",
    "        target_training.append(0)\n",
    "    else:\n",
    "        target_training.append(1)"
   ]
  },
  {
   "cell_type": "code",
   "execution_count": 50,
   "metadata": {},
   "outputs": [],
   "source": [
    "# Convert the tweets into lists of vectors for each word (using the 300 length word embedding)\n",
    "kaggle_vec=tweettovec(training_tweets)\n",
    "old_sen_vec=tweettovec(t2_tweets)\n",
    "new_sen_vec=tweettovec(tweet_text)"
   ]
  },
  {
   "cell_type": "code",
   "execution_count": 51,
   "metadata": {},
   "outputs": [],
   "source": [
    "# Convert the data to numpy array for RNN input. Note: want to change the 44 to the max number of token in a tweet in any of\n",
    "# the datasets used\n",
    "def tonparray(tweet_vec):\n",
    "    data=np.zeros((len(tweet_vec),44,300))\n",
    "    for i in range(len(tweet_vec)):\n",
    "        for j in range(len(tweet_vec[i])):\n",
    "            data[i][43-j][:]=tweet_vec[i][j]\n",
    "    return data"
   ]
  },
  {
   "cell_type": "code",
   "execution_count": 52,
   "metadata": {},
   "outputs": [],
   "source": [
    "# get numpy array with the relevant data, padded with zeros when necessary\n",
    "kaggle_final_data=tonparray(kaggle_vec)\n",
    "old_sen_final_data=tonparray(old_sen_vec)\n",
    "new_sen_final_data=tonparray(new_sen_vec)"
   ]
  },
  {
   "cell_type": "code",
   "execution_count": 53,
   "metadata": {},
   "outputs": [
    {
     "data": {
      "text/plain": [
       "(86460, 44, 300)"
      ]
     },
     "execution_count": 53,
     "metadata": {},
     "output_type": "execute_result"
    }
   ],
   "source": [
    "kaggle_final_data.shape"
   ]
  },
  {
   "cell_type": "code",
   "execution_count": 54,
   "metadata": {},
   "outputs": [
    {
     "name": "stdout",
     "output_type": "stream",
     "text": [
      "WARNING:tensorflow:From C:\\Users\\xeshi\\AppData\\Roaming\\Python\\Python37\\site-packages\\tensorflow\\python\\framework\\op_def_library.py:263: colocate_with (from tensorflow.python.framework.ops) is deprecated and will be removed in a future version.\n",
      "Instructions for updating:\n",
      "Colocations handled automatically by placer.\n"
     ]
    }
   ],
   "source": [
    "# RNN in Keras, using a simple 1 layer LSTM, and having one Dense layer (still working out how to optimize these parameters)\n",
    "model = Sequential()\n",
    "model.add(LSTM((8),batch_input_shape=(None,44,300),return_sequences=True))\n",
    "model.add(LSTM((8)))\n",
    "model.add(Dense(1))\n",
    "model.compile(loss='mean_squared_error', optimizer='adam',metrics=['accuracy'])"
   ]
  },
  {
   "cell_type": "code",
   "execution_count": 57,
   "metadata": {},
   "outputs": [
    {
     "name": "stdout",
     "output_type": "stream",
     "text": [
      "_________________________________________________________________\n",
      "Layer (type)                 Output Shape              Param #   \n",
      "=================================================================\n",
      "lstm_1 (LSTM)                (None, 44, 8)             9888      \n",
      "_________________________________________________________________\n",
      "lstm_2 (LSTM)                (None, 8)                 544       \n",
      "_________________________________________________________________\n",
      "dense_1 (Dense)              (None, 1)                 9         \n",
      "=================================================================\n",
      "Total params: 10,441\n",
      "Trainable params: 10,441\n",
      "Non-trainable params: 0\n",
      "_________________________________________________________________\n"
     ]
    }
   ],
   "source": [
    "model.summary()"
   ]
  },
  {
   "cell_type": "code",
   "execution_count": 56,
   "metadata": {
    "scrolled": true
   },
   "outputs": [
    {
     "name": "stdout",
     "output_type": "stream",
     "text": [
      "WARNING:tensorflow:From C:\\Users\\xeshi\\AppData\\Roaming\\Python\\Python37\\site-packages\\tensorflow\\python\\ops\\math_ops.py:3066: to_int32 (from tensorflow.python.ops.math_ops) is deprecated and will be removed in a future version.\n",
      "Instructions for updating:\n",
      "Use tf.cast instead.\n",
      "Epoch 1/5\n",
      " - 218s - loss: 0.2204 - acc: 0.6373\n",
      "Epoch 2/5\n",
      " - 128s - loss: 0.2040 - acc: 0.6759\n",
      "Epoch 3/5\n",
      " - 146s - loss: 0.1958 - acc: 0.6920\n",
      "Epoch 4/5\n",
      " - 139s - loss: 0.1899 - acc: 0.7053\n",
      "Epoch 5/5\n",
      " - 138s - loss: 0.1856 - acc: 0.7132\n"
     ]
    }
   ],
   "source": [
    "# train this initial RNN-LSTM with the kaggle data, using 5 epochs (runthroughs), batch size is the entire dataset\n",
    "results=model.fit(kaggle_final_data,target_training,epochs=5,verbose=2)"
   ]
  },
  {
   "cell_type": "code",
   "execution_count": 58,
   "metadata": {},
   "outputs": [],
   "source": [
    "results=model.predict(old_sen_final_data)"
   ]
  },
  {
   "cell_type": "code",
   "execution_count": 59,
   "metadata": {},
   "outputs": [],
   "source": [
    "def roundoff(results):\n",
    "    for i in range(len(results)):\n",
    "        if results[i]<0.5:\n",
    "            results[i]=0\n",
    "        else:\n",
    "            results[i]=1\n",
    "    return results"
   ]
  },
  {
   "cell_type": "code",
   "execution_count": 60,
   "metadata": {},
   "outputs": [],
   "source": [
    "results=roundoff(results)\n",
    "by_state=tweettuples(results)"
   ]
  },
  {
   "cell_type": "code",
   "execution_count": 61,
   "metadata": {},
   "outputs": [
    {
     "name": "stderr",
     "output_type": "stream",
     "text": [
      "C:\\Users\\xeshi\\Anaconda3\\lib\\site-packages\\sklearn\\linear_model\\stochastic_gradient.py:166: FutureWarning: max_iter and tol parameters have been added in SGDClassifier in 0.19. If both are left unset, they default to max_iter=5 and tol=None. If tol is not None, max_iter defaults to max_iter=1000. From 0.21, default max_iter will be 1000, and default tol will be 1e-3.\n",
      "  FutureWarning)\n"
     ]
    },
    {
     "data": {
      "text/plain": [
       "SGDClassifier(alpha=0.0001, average=False, class_weight=None,\n",
       "       early_stopping=False, epsilon=0.1, eta0=0.0, fit_intercept=True,\n",
       "       l1_ratio=0.15, learning_rate='optimal', loss='hinge', max_iter=None,\n",
       "       n_iter=None, n_iter_no_change=5, n_jobs=None, penalty='l2',\n",
       "       power_t=0.5, random_state=None, shuffle=True, tol=None,\n",
       "       validation_fraction=0.1, verbose=0, warm_start=False)"
      ]
     },
     "execution_count": 61,
     "metadata": {},
     "output_type": "execute_result"
    }
   ],
   "source": [
    "state_pred.fit(by_state,actual_outcome_2016)"
   ]
  },
  {
   "cell_type": "code",
   "execution_count": 62,
   "metadata": {},
   "outputs": [],
   "source": [
    "test_set=model.predict(new_sen_final_data)"
   ]
  },
  {
   "cell_type": "code",
   "execution_count": 63,
   "metadata": {},
   "outputs": [],
   "source": [
    "test_set=roundoff(test_set)\n",
    "by_state_test=tweettuples(test_set)"
   ]
  },
  {
   "cell_type": "code",
   "execution_count": 64,
   "metadata": {},
   "outputs": [
    {
     "data": {
      "text/plain": [
       "0.82"
      ]
     },
     "execution_count": 64,
     "metadata": {},
     "output_type": "execute_result"
    }
   ],
   "source": [
    "state_pred.score(by_state_test,actual_outcome_2018)"
   ]
  },
  {
   "cell_type": "code",
   "execution_count": 65,
   "metadata": {},
   "outputs": [
    {
     "data": {
      "text/plain": [
       "(0, 100)"
      ]
     },
     "execution_count": 65,
     "metadata": {},
     "output_type": "execute_result"
    },
    {
     "data": {
      "image/png": "[encoded data removed]",
      "text/plain": [
       "<Figure size 720x288 with 2 Axes>"
      ]
     },
     "metadata": {
      "needs_background": "light"
     },
     "output_type": "display_data"
    }
   ],
   "source": [
    "x1=[]\n",
    "y1=[]\n",
    "x2=[]\n",
    "y2=[]\n",
    "for i in range(50):\n",
    "    data=by_state_test[i]\n",
    "    if actual_outcome_2018[i]==1:\n",
    "        x1.append(data[0])\n",
    "        y1.append(data[1])\n",
    "    else:\n",
    "        x2.append(data[0])\n",
    "        y2.append(data[1])\n",
    "\n",
    "plt.figure(figsize=(10,4))\n",
    "ax1=plt.subplot(1,2,1)\n",
    "ax1.title.set_text(\"Republican Tuples\")\n",
    "ax1.set_ylabel(\"Number of Liberal Tweets\")\n",
    "ax1.set_xlabel(\"Number of Conservative Tweets\")\n",
    "plt.scatter(x1,y1,marker='x',color='r')\n",
    "plt.ylim(0,100)\n",
    "plt.xlim(0,100)\n",
    "ax2=plt.subplot(1,2,2)\n",
    "ax2.title.set_text(\"Democrat Tuples\")\n",
    "ax2.set_ylabel(\"Number of Liberal Tweets\")\n",
    "ax2.set_xlabel(\"Number of Conservative Tweets\")\n",
    "plt.scatter(x2,y2,marker='x',color='b')\n",
    "plt.ylim(0,100)\n",
    "plt.xlim(0,100)"
   ]
  },
  {
   "cell_type": "code",
   "execution_count": 66,
   "metadata": {},
   "outputs": [
    {
     "name": "stderr",
     "output_type": "stream",
     "text": [
      "C:\\Users\\xeshi\\Anaconda3\\lib\\site-packages\\sklearn\\linear_model\\stochastic_gradient.py:166: FutureWarning: max_iter and tol parameters have been added in SGDClassifier in 0.19. If both are left unset, they default to max_iter=5 and tol=None. If tol is not None, max_iter defaults to max_iter=1000. From 0.21, default max_iter will be 1000, and default tol will be 1e-3.\n",
      "  FutureWarning)\n",
      "C:\\Users\\xeshi\\Anaconda3\\lib\\site-packages\\sklearn\\linear_model\\stochastic_gradient.py:166: FutureWarning: max_iter and tol parameters have been added in SGDClassifier in 0.19. If both are left unset, they default to max_iter=5 and tol=None. If tol is not None, max_iter defaults to max_iter=1000. From 0.21, default max_iter will be 1000, and default tol will be 1e-3.\n",
      "  FutureWarning)\n",
      "C:\\Users\\xeshi\\Anaconda3\\lib\\site-packages\\sklearn\\linear_model\\stochastic_gradient.py:166: FutureWarning: max_iter and tol parameters have been added in SGDClassifier in 0.19. If both are left unset, they default to max_iter=5 and tol=None. If tol is not None, max_iter defaults to max_iter=1000. From 0.21, default max_iter will be 1000, and default tol will be 1e-3.\n",
      "  FutureWarning)\n",
      "C:\\Users\\xeshi\\Anaconda3\\lib\\site-packages\\sklearn\\linear_model\\stochastic_gradient.py:166: FutureWarning: max_iter and tol parameters have been added in SGDClassifier in 0.19. If both are left unset, they default to max_iter=5 and tol=None. If tol is not None, max_iter defaults to max_iter=1000. From 0.21, default max_iter will be 1000, and default tol will be 1e-3.\n",
      "  FutureWarning)\n"
     ]
    },
    {
     "data": {
      "text/plain": [
       "OneVsRestClassifier(estimator=SGDClassifier(alpha=0.0001, average=False, class_weight=None,\n",
       "       early_stopping=False, epsilon=0.1, eta0=0.0, fit_intercept=True,\n",
       "       l1_ratio=0.15, learning_rate='optimal', loss='hinge', max_iter=None,\n",
       "       n_iter=None, n_iter_no_change=5, n_jobs=None, penalty='l2',\n",
       "       power_t=0.5, random_state=None, shuffle=True, tol=None,\n",
       "       validation_fraction=0.1, verbose=0, warm_start=False),\n",
       "          n_jobs=None)"
      ]
     },
     "execution_count": 66,
     "metadata": {},
     "output_type": "execute_result"
    }
   ],
   "source": [
    "state_pred_margin.fit(by_state,multi_2016)"
   ]
  },
  {
   "cell_type": "code",
   "execution_count": 67,
   "metadata": {},
   "outputs": [
    {
     "data": {
      "text/plain": [
       "0.82"
      ]
     },
     "execution_count": 67,
     "metadata": {},
     "output_type": "execute_result"
    }
   ],
   "source": [
    "state_pred_margin.score(by_state_test,multi_2018)"
   ]
  },
  {
   "cell_type": "code",
   "execution_count": 72,
   "metadata": {},
   "outputs": [],
   "source": [
    "predictions=state_pred_margin.predict(by_state_test)"
   ]
  },
  {
   "cell_type": "code",
   "execution_count": 71,
   "metadata": {},
   "outputs": [],
   "source": [
    "file=open('US_states.txt','r')\n",
    "state=[]\n",
    "for line in file:\n",
    "    state.append(line)\n",
    "state=[s.replace('\\n','').strip() for s in state]"
   ]
  },
  {
   "cell_type": "code",
   "execution_count": 115,
   "metadata": {},
   "outputs": [],
   "source": [
    "agree=[]\n",
    "for i in range(50):\n",
    "    agree.append(predictions[i]==multi_2018[i])"
   ]
  },
  {
   "cell_type": "code",
   "execution_count": 112,
   "metadata": {},
   "outputs": [],
   "source": [
    "predictions_text=[]\n",
    "for i in range(50):\n",
    "    predictions_text.append(converttotext(predictions[i]))    "
   ]
  },
  {
   "cell_type": "code",
   "execution_count": 118,
   "metadata": {
    "scrolled": true
   },
   "outputs": [
    {
     "data": {
      "text/html": [
       "<div>\n",
       "<style scoped>\n",
       "    .dataframe tbody tr th:only-of-type {\n",
       "        vertical-align: middle;\n",
       "    }\n",
       "\n",
       "    .dataframe tbody tr th {\n",
       "        vertical-align: top;\n",
       "    }\n",
       "\n",
       "    .dataframe thead th {\n",
       "        text-align: right;\n",
       "    }\n",
       "</style>\n",
       "<table border=\"1\" class=\"dataframe\">\n",
       "  <thead>\n",
       "    <tr style=\"text-align: right;\">\n",
       "      <th></th>\n",
       "      <th>State</th>\n",
       "      <th>Tuple</th>\n",
       "      <th>Predicted</th>\n",
       "      <th>Actual</th>\n",
       "      <th>Agreement</th>\n",
       "    </tr>\n",
       "  </thead>\n",
       "  <tbody>\n",
       "    <tr>\n",
       "      <th>0</th>\n",
       "      <td>Alabama</td>\n",
       "      <td>[73, 27]</td>\n",
       "      <td>Solid R (+5)</td>\n",
       "      <td>Solid R (+5)</td>\n",
       "      <td>True</td>\n",
       "    </tr>\n",
       "    <tr>\n",
       "      <th>1</th>\n",
       "      <td>Alaska</td>\n",
       "      <td>[46, 54]</td>\n",
       "      <td>Solid R (+5)</td>\n",
       "      <td>Solid R (+5)</td>\n",
       "      <td>True</td>\n",
       "    </tr>\n",
       "    <tr>\n",
       "      <th>2</th>\n",
       "      <td>Arizona</td>\n",
       "      <td>[48, 52]</td>\n",
       "      <td>Solid R (+5)</td>\n",
       "      <td>Leans R (+1-5)</td>\n",
       "      <td>False</td>\n",
       "    </tr>\n",
       "    <tr>\n",
       "      <th>3</th>\n",
       "      <td>Arkansas</td>\n",
       "      <td>[61, 39]</td>\n",
       "      <td>Solid R (+5)</td>\n",
       "      <td>Solid R (+5)</td>\n",
       "      <td>True</td>\n",
       "    </tr>\n",
       "    <tr>\n",
       "      <th>4</th>\n",
       "      <td>California</td>\n",
       "      <td>[23, 77]</td>\n",
       "      <td>Solid D (+5)</td>\n",
       "      <td>Solid D (+5)</td>\n",
       "      <td>True</td>\n",
       "    </tr>\n",
       "    <tr>\n",
       "      <th>5</th>\n",
       "      <td>Colorado</td>\n",
       "      <td>[47, 53]</td>\n",
       "      <td>Solid R (+5)</td>\n",
       "      <td>Solid D (+5)</td>\n",
       "      <td>False</td>\n",
       "    </tr>\n",
       "    <tr>\n",
       "      <th>6</th>\n",
       "      <td>Connecticut</td>\n",
       "      <td>[23, 77]</td>\n",
       "      <td>Solid D (+5)</td>\n",
       "      <td>Solid D (+5)</td>\n",
       "      <td>True</td>\n",
       "    </tr>\n",
       "    <tr>\n",
       "      <th>7</th>\n",
       "      <td>Delaware</td>\n",
       "      <td>[34, 66]</td>\n",
       "      <td>Solid D (+5)</td>\n",
       "      <td>Solid D (+5)</td>\n",
       "      <td>True</td>\n",
       "    </tr>\n",
       "    <tr>\n",
       "      <th>8</th>\n",
       "      <td>Florida</td>\n",
       "      <td>[46, 54]</td>\n",
       "      <td>Solid R (+5)</td>\n",
       "      <td>Leans D (+1-5)</td>\n",
       "      <td>False</td>\n",
       "    </tr>\n",
       "    <tr>\n",
       "      <th>9</th>\n",
       "      <td>Georgia</td>\n",
       "      <td>[66, 34]</td>\n",
       "      <td>Solid R (+5)</td>\n",
       "      <td>Solid R (+5)</td>\n",
       "      <td>True</td>\n",
       "    </tr>\n",
       "    <tr>\n",
       "      <th>10</th>\n",
       "      <td>Hawaii</td>\n",
       "      <td>[25, 75]</td>\n",
       "      <td>Solid D (+5)</td>\n",
       "      <td>Solid D (+5)</td>\n",
       "      <td>True</td>\n",
       "    </tr>\n",
       "    <tr>\n",
       "      <th>11</th>\n",
       "      <td>Idaho</td>\n",
       "      <td>[66, 34]</td>\n",
       "      <td>Solid R (+5)</td>\n",
       "      <td>Solid R (+5)</td>\n",
       "      <td>True</td>\n",
       "    </tr>\n",
       "    <tr>\n",
       "      <th>12</th>\n",
       "      <td>Illinois</td>\n",
       "      <td>[25, 75]</td>\n",
       "      <td>Solid D (+5)</td>\n",
       "      <td>Solid D (+5)</td>\n",
       "      <td>True</td>\n",
       "    </tr>\n",
       "    <tr>\n",
       "      <th>13</th>\n",
       "      <td>Indiana</td>\n",
       "      <td>[65, 35]</td>\n",
       "      <td>Solid R (+5)</td>\n",
       "      <td>Solid R (+5)</td>\n",
       "      <td>True</td>\n",
       "    </tr>\n",
       "    <tr>\n",
       "      <th>14</th>\n",
       "      <td>Iowa</td>\n",
       "      <td>[61, 39]</td>\n",
       "      <td>Solid R (+5)</td>\n",
       "      <td>Leans D (+1-5)</td>\n",
       "      <td>False</td>\n",
       "    </tr>\n",
       "    <tr>\n",
       "      <th>15</th>\n",
       "      <td>Kansas</td>\n",
       "      <td>[78, 22]</td>\n",
       "      <td>Solid R (+5)</td>\n",
       "      <td>Solid R (+5)</td>\n",
       "      <td>True</td>\n",
       "    </tr>\n",
       "    <tr>\n",
       "      <th>16</th>\n",
       "      <td>Kentucky</td>\n",
       "      <td>[51, 49]</td>\n",
       "      <td>Solid R (+5)</td>\n",
       "      <td>Solid R (+5)</td>\n",
       "      <td>True</td>\n",
       "    </tr>\n",
       "    <tr>\n",
       "      <th>17</th>\n",
       "      <td>Louisiana</td>\n",
       "      <td>[57, 43]</td>\n",
       "      <td>Solid R (+5)</td>\n",
       "      <td>Solid R (+5)</td>\n",
       "      <td>True</td>\n",
       "    </tr>\n",
       "    <tr>\n",
       "      <th>18</th>\n",
       "      <td>Maine</td>\n",
       "      <td>[48, 52]</td>\n",
       "      <td>Solid R (+5)</td>\n",
       "      <td>Solid D (+5)</td>\n",
       "      <td>False</td>\n",
       "    </tr>\n",
       "    <tr>\n",
       "      <th>19</th>\n",
       "      <td>Maryland</td>\n",
       "      <td>[30, 70]</td>\n",
       "      <td>Solid D (+5)</td>\n",
       "      <td>Solid D (+5)</td>\n",
       "      <td>True</td>\n",
       "    </tr>\n",
       "    <tr>\n",
       "      <th>20</th>\n",
       "      <td>Massachusetts</td>\n",
       "      <td>[23, 77]</td>\n",
       "      <td>Solid D (+5)</td>\n",
       "      <td>Solid D (+5)</td>\n",
       "      <td>True</td>\n",
       "    </tr>\n",
       "    <tr>\n",
       "      <th>21</th>\n",
       "      <td>Michigan</td>\n",
       "      <td>[40, 60]</td>\n",
       "      <td>Solid D (+5)</td>\n",
       "      <td>Solid D (+5)</td>\n",
       "      <td>True</td>\n",
       "    </tr>\n",
       "    <tr>\n",
       "      <th>22</th>\n",
       "      <td>Minnesota</td>\n",
       "      <td>[38, 62]</td>\n",
       "      <td>Solid D (+5)</td>\n",
       "      <td>Solid D (+5)</td>\n",
       "      <td>True</td>\n",
       "    </tr>\n",
       "    <tr>\n",
       "      <th>23</th>\n",
       "      <td>Mississippi</td>\n",
       "      <td>[44, 56]</td>\n",
       "      <td>Solid R (+5)</td>\n",
       "      <td>Solid R (+5)</td>\n",
       "      <td>True</td>\n",
       "    </tr>\n",
       "    <tr>\n",
       "      <th>24</th>\n",
       "      <td>Missouri</td>\n",
       "      <td>[54, 46]</td>\n",
       "      <td>Solid R (+5)</td>\n",
       "      <td>Solid R (+5)</td>\n",
       "      <td>True</td>\n",
       "    </tr>\n",
       "    <tr>\n",
       "      <th>25</th>\n",
       "      <td>Montana</td>\n",
       "      <td>[60, 40]</td>\n",
       "      <td>Solid R (+5)</td>\n",
       "      <td>Solid R (+5)</td>\n",
       "      <td>True</td>\n",
       "    </tr>\n",
       "    <tr>\n",
       "      <th>26</th>\n",
       "      <td>Nebraska</td>\n",
       "      <td>[73, 27]</td>\n",
       "      <td>Solid R (+5)</td>\n",
       "      <td>Solid R (+5)</td>\n",
       "      <td>True</td>\n",
       "    </tr>\n",
       "    <tr>\n",
       "      <th>27</th>\n",
       "      <td>Nevada</td>\n",
       "      <td>[25, 75]</td>\n",
       "      <td>Solid D (+5)</td>\n",
       "      <td>Solid D (+5)</td>\n",
       "      <td>True</td>\n",
       "    </tr>\n",
       "    <tr>\n",
       "      <th>28</th>\n",
       "      <td>New Hampshire</td>\n",
       "      <td>[34, 66]</td>\n",
       "      <td>Solid D (+5)</td>\n",
       "      <td>Solid D (+5)</td>\n",
       "      <td>True</td>\n",
       "    </tr>\n",
       "    <tr>\n",
       "      <th>29</th>\n",
       "      <td>New Jersey</td>\n",
       "      <td>[29, 71]</td>\n",
       "      <td>Solid D (+5)</td>\n",
       "      <td>Solid D (+5)</td>\n",
       "      <td>True</td>\n",
       "    </tr>\n",
       "    <tr>\n",
       "      <th>30</th>\n",
       "      <td>New Mexico</td>\n",
       "      <td>[30, 70]</td>\n",
       "      <td>Solid D (+5)</td>\n",
       "      <td>Solid D (+5)</td>\n",
       "      <td>True</td>\n",
       "    </tr>\n",
       "    <tr>\n",
       "      <th>31</th>\n",
       "      <td>New York</td>\n",
       "      <td>[28, 72]</td>\n",
       "      <td>Solid D (+5)</td>\n",
       "      <td>Solid D (+5)</td>\n",
       "      <td>True</td>\n",
       "    </tr>\n",
       "    <tr>\n",
       "      <th>32</th>\n",
       "      <td>North Carolina</td>\n",
       "      <td>[63, 37]</td>\n",
       "      <td>Solid R (+5)</td>\n",
       "      <td>Leans R (+1-5)</td>\n",
       "      <td>False</td>\n",
       "    </tr>\n",
       "    <tr>\n",
       "      <th>33</th>\n",
       "      <td>North Dakota</td>\n",
       "      <td>[67, 33]</td>\n",
       "      <td>Solid R (+5)</td>\n",
       "      <td>Solid R (+5)</td>\n",
       "      <td>True</td>\n",
       "    </tr>\n",
       "    <tr>\n",
       "      <th>34</th>\n",
       "      <td>Ohio</td>\n",
       "      <td>[52, 48]</td>\n",
       "      <td>Solid R (+5)</td>\n",
       "      <td>Solid R (+5)</td>\n",
       "      <td>True</td>\n",
       "    </tr>\n",
       "    <tr>\n",
       "      <th>35</th>\n",
       "      <td>Oklahoma</td>\n",
       "      <td>[63, 37]</td>\n",
       "      <td>Solid R (+5)</td>\n",
       "      <td>Solid R (+5)</td>\n",
       "      <td>True</td>\n",
       "    </tr>\n",
       "    <tr>\n",
       "      <th>36</th>\n",
       "      <td>Oregon</td>\n",
       "      <td>[30, 70]</td>\n",
       "      <td>Solid D (+5)</td>\n",
       "      <td>Solid D (+5)</td>\n",
       "      <td>True</td>\n",
       "    </tr>\n",
       "    <tr>\n",
       "      <th>37</th>\n",
       "      <td>Pennsylvania</td>\n",
       "      <td>[42, 58]</td>\n",
       "      <td>Solid R (+5)</td>\n",
       "      <td>Solid D (+5)</td>\n",
       "      <td>False</td>\n",
       "    </tr>\n",
       "    <tr>\n",
       "      <th>38</th>\n",
       "      <td>Rhode Island</td>\n",
       "      <td>[22, 78]</td>\n",
       "      <td>Solid D (+5)</td>\n",
       "      <td>Solid D (+5)</td>\n",
       "      <td>True</td>\n",
       "    </tr>\n",
       "    <tr>\n",
       "      <th>39</th>\n",
       "      <td>South Carolina</td>\n",
       "      <td>[66, 34]</td>\n",
       "      <td>Solid R (+5)</td>\n",
       "      <td>Solid R (+5)</td>\n",
       "      <td>True</td>\n",
       "    </tr>\n",
       "    <tr>\n",
       "      <th>40</th>\n",
       "      <td>South Dakota</td>\n",
       "      <td>[70, 30]</td>\n",
       "      <td>Solid R (+5)</td>\n",
       "      <td>Solid R (+5)</td>\n",
       "      <td>True</td>\n",
       "    </tr>\n",
       "    <tr>\n",
       "      <th>41</th>\n",
       "      <td>Tennessee</td>\n",
       "      <td>[60, 40]</td>\n",
       "      <td>Solid R (+5)</td>\n",
       "      <td>Solid R (+5)</td>\n",
       "      <td>True</td>\n",
       "    </tr>\n",
       "    <tr>\n",
       "      <th>42</th>\n",
       "      <td>Texas</td>\n",
       "      <td>[38, 62]</td>\n",
       "      <td>Solid D (+5)</td>\n",
       "      <td>Leans R (+1-5)</td>\n",
       "      <td>False</td>\n",
       "    </tr>\n",
       "    <tr>\n",
       "      <th>43</th>\n",
       "      <td>Utah</td>\n",
       "      <td>[60, 40]</td>\n",
       "      <td>Solid R (+5)</td>\n",
       "      <td>Solid R (+5)</td>\n",
       "      <td>True</td>\n",
       "    </tr>\n",
       "    <tr>\n",
       "      <th>44</th>\n",
       "      <td>Vermont</td>\n",
       "      <td>[24, 76]</td>\n",
       "      <td>Solid D (+5)</td>\n",
       "      <td>Solid D (+5)</td>\n",
       "      <td>True</td>\n",
       "    </tr>\n",
       "    <tr>\n",
       "      <th>45</th>\n",
       "      <td>Virginia</td>\n",
       "      <td>[38, 62]</td>\n",
       "      <td>Solid D (+5)</td>\n",
       "      <td>Solid D (+5)</td>\n",
       "      <td>True</td>\n",
       "    </tr>\n",
       "    <tr>\n",
       "      <th>46</th>\n",
       "      <td>Washington</td>\n",
       "      <td>[32, 68]</td>\n",
       "      <td>Solid D (+5)</td>\n",
       "      <td>Solid D (+5)</td>\n",
       "      <td>True</td>\n",
       "    </tr>\n",
       "    <tr>\n",
       "      <th>47</th>\n",
       "      <td>West Virginia</td>\n",
       "      <td>[68, 32]</td>\n",
       "      <td>Solid R (+5)</td>\n",
       "      <td>Solid R (+5)</td>\n",
       "      <td>True</td>\n",
       "    </tr>\n",
       "    <tr>\n",
       "      <th>48</th>\n",
       "      <td>Wisconsin</td>\n",
       "      <td>[48, 52]</td>\n",
       "      <td>Solid R (+5)</td>\n",
       "      <td>Solid D (+5)</td>\n",
       "      <td>False</td>\n",
       "    </tr>\n",
       "    <tr>\n",
       "      <th>49</th>\n",
       "      <td>Wyoming</td>\n",
       "      <td>[59, 41]</td>\n",
       "      <td>Solid R (+5)</td>\n",
       "      <td>Solid R (+5)</td>\n",
       "      <td>True</td>\n",
       "    </tr>\n",
       "  </tbody>\n",
       "</table>\n",
       "</div>"
      ],
      "text/plain": [
       "             State     Tuple     Predicted          Actual  Agreement\n",
       "0          Alabama  [73, 27]  Solid R (+5)    Solid R (+5)       True\n",
       "1           Alaska  [46, 54]  Solid R (+5)    Solid R (+5)       True\n",
       "2          Arizona  [48, 52]  Solid R (+5)  Leans R (+1-5)      False\n",
       "3         Arkansas  [61, 39]  Solid R (+5)    Solid R (+5)       True\n",
       "4       California  [23, 77]  Solid D (+5)    Solid D (+5)       True\n",
       "5         Colorado  [47, 53]  Solid R (+5)    Solid D (+5)      False\n",
       "6      Connecticut  [23, 77]  Solid D (+5)    Solid D (+5)       True\n",
       "7         Delaware  [34, 66]  Solid D (+5)    Solid D (+5)       True\n",
       "8          Florida  [46, 54]  Solid R (+5)  Leans D (+1-5)      False\n",
       "9          Georgia  [66, 34]  Solid R (+5)    Solid R (+5)       True\n",
       "10          Hawaii  [25, 75]  Solid D (+5)    Solid D (+5)       True\n",
       "11           Idaho  [66, 34]  Solid R (+5)    Solid R (+5)       True\n",
       "12        Illinois  [25, 75]  Solid D (+5)    Solid D (+5)       True\n",
       "13         Indiana  [65, 35]  Solid R (+5)    Solid R (+5)       True\n",
       "14            Iowa  [61, 39]  Solid R (+5)  Leans D (+1-5)      False\n",
       "15          Kansas  [78, 22]  Solid R (+5)    Solid R (+5)       True\n",
       "16        Kentucky  [51, 49]  Solid R (+5)    Solid R (+5)       True\n",
       "17       Louisiana  [57, 43]  Solid R (+5)    Solid R (+5)       True\n",
       "18           Maine  [48, 52]  Solid R (+5)    Solid D (+5)      False\n",
       "19        Maryland  [30, 70]  Solid D (+5)    Solid D (+5)       True\n",
       "20   Massachusetts  [23, 77]  Solid D (+5)    Solid D (+5)       True\n",
       "21        Michigan  [40, 60]  Solid D (+5)    Solid D (+5)       True\n",
       "22       Minnesota  [38, 62]  Solid D (+5)    Solid D (+5)       True\n",
       "23     Mississippi  [44, 56]  Solid R (+5)    Solid R (+5)       True\n",
       "24        Missouri  [54, 46]  Solid R (+5)    Solid R (+5)       True\n",
       "25         Montana  [60, 40]  Solid R (+5)    Solid R (+5)       True\n",
       "26        Nebraska  [73, 27]  Solid R (+5)    Solid R (+5)       True\n",
       "27          Nevada  [25, 75]  Solid D (+5)    Solid D (+5)       True\n",
       "28   New Hampshire  [34, 66]  Solid D (+5)    Solid D (+5)       True\n",
       "29      New Jersey  [29, 71]  Solid D (+5)    Solid D (+5)       True\n",
       "30      New Mexico  [30, 70]  Solid D (+5)    Solid D (+5)       True\n",
       "31        New York  [28, 72]  Solid D (+5)    Solid D (+5)       True\n",
       "32  North Carolina  [63, 37]  Solid R (+5)  Leans R (+1-5)      False\n",
       "33    North Dakota  [67, 33]  Solid R (+5)    Solid R (+5)       True\n",
       "34            Ohio  [52, 48]  Solid R (+5)    Solid R (+5)       True\n",
       "35        Oklahoma  [63, 37]  Solid R (+5)    Solid R (+5)       True\n",
       "36          Oregon  [30, 70]  Solid D (+5)    Solid D (+5)       True\n",
       "37    Pennsylvania  [42, 58]  Solid R (+5)    Solid D (+5)      False\n",
       "38    Rhode Island  [22, 78]  Solid D (+5)    Solid D (+5)       True\n",
       "39  South Carolina  [66, 34]  Solid R (+5)    Solid R (+5)       True\n",
       "40    South Dakota  [70, 30]  Solid R (+5)    Solid R (+5)       True\n",
       "41       Tennessee  [60, 40]  Solid R (+5)    Solid R (+5)       True\n",
       "42           Texas  [38, 62]  Solid D (+5)  Leans R (+1-5)      False\n",
       "43            Utah  [60, 40]  Solid R (+5)    Solid R (+5)       True\n",
       "44         Vermont  [24, 76]  Solid D (+5)    Solid D (+5)       True\n",
       "45        Virginia  [38, 62]  Solid D (+5)    Solid D (+5)       True\n",
       "46      Washington  [32, 68]  Solid D (+5)    Solid D (+5)       True\n",
       "47   West Virginia  [68, 32]  Solid R (+5)    Solid R (+5)       True\n",
       "48       Wisconsin  [48, 52]  Solid R (+5)    Solid D (+5)      False\n",
       "49         Wyoming  [59, 41]  Solid R (+5)    Solid R (+5)       True"
      ]
     },
     "execution_count": 118,
     "metadata": {},
     "output_type": "execute_result"
    }
   ],
   "source": [
    "output=pd.DataFrame()\n",
    "output[\"State\"]=state\n",
    "output[\"Tuple\"]=by_state_test\n",
    "output[\"Predicted\"]=predictions_text\n",
    "output[\"Actual\"]=actual_text\n",
    "output[\"Agreement\"]=agree\n",
    "output"
   ]
  },
  {
   "cell_type": "code",
   "execution_count": 119,
   "metadata": {},
   "outputs": [],
   "source": [
    "with open(\"RNN_Data.csv\",'w') as outfile:\n",
    "    output.to_csv(\"RNN_Data.csv\")"
   ]
  },
  {
   "cell_type": "code",
   "execution_count": 68,
   "metadata": {},
   "outputs": [
    {
     "data": {
      "text/plain": [
       "(0, 100)"
      ]
     },
     "execution_count": 68,
     "metadata": {},
     "output_type": "execute_result"
    },
    {
     "data": {
      "image/png": "[encoded data removed]",
      "text/plain": [
       "<Figure size 720x720 with 4 Axes>"
      ]
     },
     "metadata": {
      "needs_background": "light"
     },
     "output_type": "display_data"
    }
   ],
   "source": [
    "x1=[]\n",
    "y1=[]\n",
    "x2=[]\n",
    "y2=[]\n",
    "x3=[]\n",
    "y3=[]\n",
    "x4=[]\n",
    "y4=[]\n",
    "for i in range(50):\n",
    "    data=by_state_test[i]\n",
    "    if multi_2018[i]==1:\n",
    "        x1.append(data[0])\n",
    "        y1.append(data[1])\n",
    "    elif multi_2018[i]==2:\n",
    "        x2.append(data[0])\n",
    "        y2.append(data[1])\n",
    "    elif multi_2018[i]==3:\n",
    "        x3.append(data[0])\n",
    "        y3.append(data[1])\n",
    "    else:\n",
    "        x4.append(data[0])\n",
    "        y4.append(data[1])\n",
    "\n",
    "plt.figure(figsize=(10,10))\n",
    "ax1=plt.subplot(2,2,1)\n",
    "ax1.title.set_text(\"Democrat Tuples, +5\")\n",
    "ax1.set_ylabel(\"Number of Liberal Tweets\")\n",
    "ax1.set_xlabel(\"Number of Conservative Tweets\")\n",
    "plt.scatter(x1,y1,marker='x',color='blue')\n",
    "plt.ylim(0,100)\n",
    "plt.xlim(0,100)\n",
    "ax2=plt.subplot(2,2,2)\n",
    "ax2.title.set_text(\"Democrat Tuples, 1-5\")\n",
    "ax2.set_ylabel(\"Number of Liberal Tweets\")\n",
    "ax2.set_xlabel(\"Number of Conservative Tweets\")\n",
    "plt.scatter(x2,y2,marker='x',color='skyblue')\n",
    "plt.ylim(0,100)\n",
    "plt.xlim(0,100)\n",
    "ax1=plt.subplot(2,2,3)\n",
    "ax1.title.set_text(\"Republican Tuples, 1-5\")\n",
    "ax1.set_ylabel(\"Number of Liberal Tweets\")\n",
    "ax1.set_xlabel(\"Number of Conservative Tweets\")\n",
    "plt.scatter(x3,y3,marker='x',color='lightcoral')\n",
    "plt.ylim(0,100)\n",
    "plt.xlim(0,100)\n",
    "ax2=plt.subplot(2,2,4)\n",
    "ax2.title.set_text(\"Republican Tuples, +5\")\n",
    "ax2.set_ylabel(\"Number of Liberal Tweets\")\n",
    "ax2.set_xlabel(\"Number of Conservative Tweets\")\n",
    "plt.scatter(x4,y4,marker='x',color='darkred')\n",
    "plt.ylim(0,100)\n",
    "plt.xlim(0,100)"
   ]
  },
  {
   "cell_type": "code",
   "execution_count": 101,
   "metadata": {},
   "outputs": [
    {
     "data": {
      "text/plain": [
       "0.4988"
      ]
     },
     "execution_count": 101,
     "metadata": {},
     "output_type": "execute_result"
    }
   ],
   "source": [
    "def sim_expt(test, p1, p2):\n",
    "    '''apply test to a simulated experiment \n",
    "       where the difference between p1 and p2 is randomly erased'''\n",
    "    bits = [random.getrandbits(1) for i in range(0, len(p1))]\n",
    "    return test([p1[i] if bits[i] else p2[i] for i in range(0,len(p1))],\n",
    "                [p2[i] if bits[i] else p1[i] for i in range(0,len(p1))])\n",
    "\n",
    "def eval_diff(data, p1, p2) :\n",
    "    '''a test generator based on the performance difference between p1 and p2\n",
    "       asks whether the result of a simulated experiment is at least as extreme\n",
    "       as the observed accuracy difference between p1 and p2 on data'''\n",
    "    diff = abs(sklearn.metrics.accuracy_score(data, p1) -\n",
    "               sklearn.metrics.accuracy_score(data, p2))\n",
    "    def test_diff(n, m) :\n",
    "        return (abs(sklearn.metrics.accuracy_score(data, n) - \n",
    "                    sklearn.metrics.accuracy_score(data, m)) >= \n",
    "                diff)\n",
    "    return test_diff\n",
    "\n",
    "def mcmcp_diff(data, p1, p2, k) :\n",
    "    '''the approximate permuatation test:\n",
    "       simulate an experiment like that used to obtain p1 and p2\n",
    "       forgetting any difference between p1 and p2\n",
    "       running the experiment k times\n",
    "       and record the probability that the performance difference on data\n",
    "       is as extreme as actually observed'''\n",
    "    success = 0\n",
    "    test = eval_diff(data, p1, p2)\n",
    "    for i in range(0,k) :\n",
    "        success += sim_expt(test, p1, p2)\n",
    "    return success / float(k)\n",
    "\n",
    "mcmcp_diff(multi_2018, predictions, pred, 2500) # actual, first pred, sec_pred, num_exp"
   ]
  },
  {
   "cell_type": "code",
   "execution_count": 107,
   "metadata": {},
   "outputs": [
    {
     "name": "stdout",
     "output_type": "stream",
     "text": [
      "Linear classification scores\n",
      "F1: 0.4543226381461675\n",
      "F1: 0.8599999999999999\n",
      "RNN evaluation scores\n",
      "F1: 0.43246869409660105\n",
      "F1: 0.82\n"
     ]
    }
   ],
   "source": [
    "#print(\"Precision:\", sklearn.metrics.precision_score(multi_2018, pred))\n",
    "#print(\"Recall: \", sklearn.metrics.recall_score(multi_2018, pred))\n",
    "print(\"Linear classification scores\")\n",
    "print(\"F1:\", sklearn.metrics.f1_score(multi_2018, pred,average='macro'))\n",
    "print(\"F1:\", sklearn.metrics.f1_score(multi_2018, pred,average='micro'))\n",
    "print(\"RNN evaluation scores\")\n",
    "print(\"F1:\", sklearn.metrics.f1_score(multi_2018, predictions,average='macro'))\n",
    "print(\"F1:\", sklearn.metrics.f1_score(multi_2018, predictions,average='micro'))"
   ]
  },
  {
   "cell_type": "code",
   "execution_count": null,
   "metadata": {},
   "outputs": [],
   "source": []
  }
 ],
 "metadata": {
  "kernelspec": {
   "display_name": "Python 3",
   "language": "python",
   "name": "python3"
  },
  "language_info": {
   "codemirror_mode": {
    "name": "ipython",
    "version": 3
   },
   "file_extension": ".py",
   "mimetype": "text/x-python",
   "name": "python",
   "nbconvert_exporter": "python",
   "pygments_lexer": "ipython3",
   "version": "3.7.1"
  }
 },
 "nbformat": 4,
 "nbformat_minor": 2
}
